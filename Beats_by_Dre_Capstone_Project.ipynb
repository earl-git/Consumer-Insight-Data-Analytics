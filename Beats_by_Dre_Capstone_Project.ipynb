{
  "nbformat": 4,
  "nbformat_minor": 0,
  "metadata": {
    "colab": {
      "provenance": []
    },
    "kernelspec": {
      "name": "python3",
      "display_name": "Python 3"
    },
    "language_info": {
      "name": "python"
    }
  },
  "cells": [
    {
      "cell_type": "markdown",
      "source": [
        "# Capstone Project: Consumer Insights Data Analytics Externship of Beats by Dre"
      ],
      "metadata": {
        "id": "IydAmVbUe5No"
      }
    },
    {
      "cell_type": "markdown",
      "source": [
        "## 1. Title Page\n",
        "**Project Title:** Consumer Insights Data Analytics Externship of Beats by Dre  \n",
        "**Student Name:** Pearl De Mello\n",
        "\n",
        "**Date:** August 31, 2024"
      ],
      "metadata": {
        "id": "9NNnXrCxfZm5"
      }
    },
    {
      "cell_type": "markdown",
      "source": [
        "## 2. Table of Contents\n",
        "1. Introduction\n",
        "2. Data Description\n",
        "3. Exploratory Data Analysis (EDA)\n",
        "4. Sentiment Analysis\n",
        "5. AI-Generated Insights\n",
        "6. Comparative Analysis\n",
        "7. Strategic Recommendations\n",
        "8. Conclusion\n",
        "9. References"
      ],
      "metadata": {
        "id": "EcaUG1uyfeiS"
      }
    },
    {
      "cell_type": "markdown",
      "source": [
        "## 3. Introduction\n",
        "\n",
        "### 3.1 Project Overview"
      ],
      "metadata": {
        "id": "jbYdV2Rbf0AD"
      }
    },
    {
      "cell_type": "markdown",
      "source": [
        "The goal is to explore how consumer feedback impacts product strategy and brand perception for Beats by Dre and other popular headphone brands on Amazon. By analyzing a range of customer reviews, this project aims to uncover insights that can guide future business decisions.\n",
        "\n",
        "The project will:\n",
        "\n",
        "1. Perform exploratory data analysis (EDA) to identify trends and patterns in the data.\n",
        "2. Use sentiment analysis to gauge customer opinions and summarize the overall sentiment.\n",
        "3. Leverage Gemini AI to generate additional insights that can inform business strategies.\n",
        "\n",
        "I will conduct several key analyses, including:\n",
        "\n",
        "* How customer sentiment influences product development and marketing strategies.\n",
        "* The role of specific product features in shaping consumer opinions.\n",
        "* The impact of brand reputation on customer loyalty and overall satisfaction.\n",
        "\n",
        "Finally, I'll provide a set of recommendations based on our findings, helping the brand leverage customer feedback to strengthen its market position."
      ],
      "metadata": {
        "id": "9CQjEYLWyrEU"
      }
    },
    {
      "cell_type": "markdown",
      "source": [
        "### 3.2 Background"
      ],
      "metadata": {
        "id": "gsPiaY4Zf6bZ"
      }
    },
    {
      "cell_type": "markdown",
      "source": [
        "Beats by Dre, founded in 2006 by Dr. Dre and Jimmy Iovine, is a leading brand in the audio technology industry renowned for its high-quality headphones and sleek, modern design. Unlike conventional high-end headphones, Beats differentiates itself by focusing on the emotional resonance of sound, recreating the feeling of being in the studio as Iovine stated,\n",
        "\n",
        "> \"We wanted to recreate that excitement of being in the studio. That's why people listen.\"\n",
        "\n",
        " The brand’s unique focus on delivering an engaging listening experience has resonated with music lovers worldwide. In July 2014, Beats' innovative approach and strong market presence led to its acquisition by Apple Inc.\n",
        "\n",
        "\n"
      ],
      "metadata": {
        "id": "FHysrcqlHYa9"
      }
    },
    {
      "cell_type": "markdown",
      "source": [
        "## 4. Data Description\n",
        "\n",
        "### 4.1 Data Sources"
      ],
      "metadata": {
        "id": "oL_6d6NngA_2"
      }
    },
    {
      "cell_type": "markdown",
      "source": [
        "For this project, I gathered consumer reviews from Amazon to analyze customer sentiment and insights regarding Beats by Dre and its competitors in the audio technology market. The data collection process involved selecting ten products, including one Beats product and nine from competing brands such as Bose, Sony, JBL, and Sennheiser. Before selecting the products for this analysis, I attended a company meeting where research findings on consumer trends in audio devices were discussed. It was highlighted that most participants prefer using audio devices such as headphones and earbuds over speakers, with wireless and portable options being the most popular due to their flexible usage. Based on these insights, I chose to focus on wireless headphones for this analysis. The focus was on obtaining a substantial number of reviews, with each product having around 100 reviews."
      ],
      "metadata": {
        "id": "wDSv03jehh9S"
      }
    },
    {
      "cell_type": "markdown",
      "source": [
        "### 4.2 Data Collection\n"
      ],
      "metadata": {
        "id": "8KD8d0nXgCAy"
      }
    },
    {
      "cell_type": "markdown",
      "source": [
        "The reviews were extracted using the Oxylabs API, which simplifies the process of scraping data from Amazon. Oxylabs offers a free trial period, during which I was able to extract up to 100 reviews per product for a comprehensive dataset of approximately 1,000 reviews in total.\n",
        "\n",
        "During the data collection process, I encountered challenges with the Oxylabs API, particularly when scraping reviews from Amazon. For some products, the API did not return the desired 100 reviews, often providing only a limited number of reviews. This issue was primarily due to Amazon's limitations on scraping which restricted the amount of data that could be retrieved.\n",
        "\n",
        "To overcome this challenge, I adapted my approach by selecting additional and alternative products within the same category to ensure I could reach my target of approximately 1,000 reviews in total. By expanding product selection and carefully managing the API requests, I was able to compile a sufficient dataset for my data analysis."
      ],
      "metadata": {
        "id": "8at7JglRctx_"
      }
    },
    {
      "cell_type": "markdown",
      "source": [
        "### 4.3 Data Cleaning"
      ],
      "metadata": {
        "id": "dnCMjSjegE55"
      }
    },
    {
      "cell_type": "code",
      "source": [
        "# Import libraries\n",
        "import pandas as pd\n",
        "import numpy as np\n",
        "import matplotlib.pyplot as plt\n",
        "import seaborn as sns\n",
        "from textblob import TextBlob\n",
        "import google.generativeai as genai"
      ],
      "metadata": {
        "id": "bgAD9_XRgGru"
      },
      "execution_count": null,
      "outputs": []
    },
    {
      "cell_type": "code",
      "source": [
        "# Load the merged dataset\n",
        "df = pd.read_csv('merged_data.csv')"
      ],
      "metadata": {
        "id": "5TISldLPEG50"
      },
      "execution_count": null,
      "outputs": []
    },
    {
      "cell_type": "code",
      "source": [
        "# Preview the first 10 rows of the dataset\n",
        "df.head(10)"
      ],
      "metadata": {
        "id": "3j9xCcFgGfZl",
        "colab": {
          "base_uri": "https://localhost:8080/",
          "height": 814
        },
        "outputId": "34a5fe13-616a-4bf8-a2c5-4f1e7d245167"
      },
      "execution_count": null,
      "outputs": [
        {
          "output_type": "execute_result",
          "data": {
            "text/plain": [
              "        review_id  product_id  \\\n",
              "0  R20IRE5X6WY351  B085296FLT   \n",
              "1  R1AGLOG6IH1XW0  B085296FLT   \n",
              "2  R1UVTRVZ4F5DME  B085296FLT   \n",
              "3    RWERS59MUAMQ  B085296FLT   \n",
              "4   RFGOLBEISEB55  B085296FLT   \n",
              "5  R2AGD67A8P04AC  B085296FLT   \n",
              "6  R2399XIITPW93N  B085296FLT   \n",
              "7  R1S3QWGEJLIK7Q  B085296FLT   \n",
              "8  R1H100TYFQZJLK  B085296FLT   \n",
              "9    RN5R5UIZT51B  B085296FLT   \n",
              "\n",
              "                                               title                 author  \\\n",
              "0               5.0 out of 5 stars Great headphones!         Talia Calazans   \n",
              "1         5.0 out of 5 stars Great quality and price                  SethB   \n",
              "2              5.0 out of 5 stars LONG battery life.                 Julian   \n",
              "3                     5.0 out of 5 stars SUPER cool!                   Rich   \n",
              "4               5.0 out of 5 stars Great Headphones!        Leosha Williams   \n",
              "5  4.0 out of 5 stars Great headphones, just don'...                  Jacob   \n",
              "6                     5.0 out of 5 stars Works great            Max Rundell   \n",
              "7              5.0 out of 5 stars amazing headphones                    N/a   \n",
              "8      2.0 out of 5 stars Please Read Before Buying.  O.Winnie Mittelberger   \n",
              "9            5.0 out of 5 stars Great Sound Quality!                Anthony   \n",
              "\n",
              "   rating                                            content  \\\n",
              "0       5  I love these headphones, and I wear them all t...   \n",
              "1       5  I got these because my old pair finally broke ...   \n",
              "2       5  I recently invested in the Beats Studio3 Wirel...   \n",
              "3       5  Super good audio, charges fast and has a long ...   \n",
              "4       5  These headphones are absolutely amazing! The v...   \n",
              "5       4  Jan 2023 - First, I am not an audiophile. So, ...   \n",
              "6       5  They are sleek and great value for the money y...   \n",
              "7       5  great headphones, often have very significant ...   \n",
              "8       2  My rating falls close to a 1.5 for multiple re...   \n",
              "9       5  I originally wanted to get the AirPods Max, bu...   \n",
              "\n",
              "                                         timestamp  \\\n",
              "0       Reviewed in the United States June 1, 2024   \n",
              "1      Reviewed in the United States July 18, 2024   \n",
              "2      Reviewed in the United States March 3, 2024   \n",
              "3      Reviewed in the United States July 21, 2024   \n",
              "4       Reviewed in the United States June 1, 2024   \n",
              "5   Reviewed in the United States January 23, 2023   \n",
              "6      Reviewed in the United States June 18, 2024   \n",
              "7      Reviewed in the United States June 21, 2024   \n",
              "8  Reviewed in the United States December 29, 2022   \n",
              "9     Reviewed in the United States August 2, 2024   \n",
              "\n",
              "                     profile_id  is_verified  helpful_count  \\\n",
              "0  AG6TODKB7VQYDH7KJ2MKHF6RQEGA         True              7   \n",
              "1  AFCW3Q2AD5H4JEZUZN753EL5D6QA         True              1   \n",
              "2  AHUVU5TLJQFQMZKFR7YKDB55USPA         True             22   \n",
              "3  AEKO4ZKYO5HYOL7NTE6YSFPHCDBA         True              0   \n",
              "4  AFBT2YGFVT6CBITOKGANUEJ5WYHA         True             17   \n",
              "5  AH3SC2BAKM6AA7XJMTJ4KAET6MSQ         True             93   \n",
              "6  AGONEWJIIDADSFNMIJQESOKWVG3A         True              1   \n",
              "7  AGVMWTJXVGQBYWLPQAHT3YPKMC2Q         True              2   \n",
              "8  AH46ZHN22ZKGHWOM3UMMORBATP2Q         True            928   \n",
              "9  AGKRRTECJOZGUNLJU2QJJRNRYNAA         True              0   \n",
              "\n",
              "                  product_attributes  \n",
              "0     Color: Shadow GraySet: Studio3  \n",
              "1     Color: Shadow GraySet: Studio3  \n",
              "2  Color: Midnight BlackSet: Studio3  \n",
              "3           Color: WhiteSet: Studio3  \n",
              "4     Color: Shadow GraySet: Studio3  \n",
              "5     Color: Matte BlackSet: Studio3  \n",
              "6     Color: Matte BlackSet: Studio3  \n",
              "7     Color: Matte BlackSet: Studio3  \n",
              "8     Color: Matte BlackSet: Studio3  \n",
              "9           Color: WhiteSet: Studio3  "
            ],
            "text/html": [
              "\n",
              "  <div id=\"df-53fa7d84-69d8-4f55-bfa5-52eea88962cf\" class=\"colab-df-container\">\n",
              "    <div>\n",
              "<style scoped>\n",
              "    .dataframe tbody tr th:only-of-type {\n",
              "        vertical-align: middle;\n",
              "    }\n",
              "\n",
              "    .dataframe tbody tr th {\n",
              "        vertical-align: top;\n",
              "    }\n",
              "\n",
              "    .dataframe thead th {\n",
              "        text-align: right;\n",
              "    }\n",
              "</style>\n",
              "<table border=\"1\" class=\"dataframe\">\n",
              "  <thead>\n",
              "    <tr style=\"text-align: right;\">\n",
              "      <th></th>\n",
              "      <th>review_id</th>\n",
              "      <th>product_id</th>\n",
              "      <th>title</th>\n",
              "      <th>author</th>\n",
              "      <th>rating</th>\n",
              "      <th>content</th>\n",
              "      <th>timestamp</th>\n",
              "      <th>profile_id</th>\n",
              "      <th>is_verified</th>\n",
              "      <th>helpful_count</th>\n",
              "      <th>product_attributes</th>\n",
              "    </tr>\n",
              "  </thead>\n",
              "  <tbody>\n",
              "    <tr>\n",
              "      <th>0</th>\n",
              "      <td>R20IRE5X6WY351</td>\n",
              "      <td>B085296FLT</td>\n",
              "      <td>5.0 out of 5 stars Great headphones!</td>\n",
              "      <td>Talia Calazans</td>\n",
              "      <td>5</td>\n",
              "      <td>I love these headphones, and I wear them all t...</td>\n",
              "      <td>Reviewed in the United States June 1, 2024</td>\n",
              "      <td>AG6TODKB7VQYDH7KJ2MKHF6RQEGA</td>\n",
              "      <td>True</td>\n",
              "      <td>7</td>\n",
              "      <td>Color: Shadow GraySet: Studio3</td>\n",
              "    </tr>\n",
              "    <tr>\n",
              "      <th>1</th>\n",
              "      <td>R1AGLOG6IH1XW0</td>\n",
              "      <td>B085296FLT</td>\n",
              "      <td>5.0 out of 5 stars Great quality and price</td>\n",
              "      <td>SethB</td>\n",
              "      <td>5</td>\n",
              "      <td>I got these because my old pair finally broke ...</td>\n",
              "      <td>Reviewed in the United States July 18, 2024</td>\n",
              "      <td>AFCW3Q2AD5H4JEZUZN753EL5D6QA</td>\n",
              "      <td>True</td>\n",
              "      <td>1</td>\n",
              "      <td>Color: Shadow GraySet: Studio3</td>\n",
              "    </tr>\n",
              "    <tr>\n",
              "      <th>2</th>\n",
              "      <td>R1UVTRVZ4F5DME</td>\n",
              "      <td>B085296FLT</td>\n",
              "      <td>5.0 out of 5 stars LONG battery life.</td>\n",
              "      <td>Julian</td>\n",
              "      <td>5</td>\n",
              "      <td>I recently invested in the Beats Studio3 Wirel...</td>\n",
              "      <td>Reviewed in the United States March 3, 2024</td>\n",
              "      <td>AHUVU5TLJQFQMZKFR7YKDB55USPA</td>\n",
              "      <td>True</td>\n",
              "      <td>22</td>\n",
              "      <td>Color: Midnight BlackSet: Studio3</td>\n",
              "    </tr>\n",
              "    <tr>\n",
              "      <th>3</th>\n",
              "      <td>RWERS59MUAMQ</td>\n",
              "      <td>B085296FLT</td>\n",
              "      <td>5.0 out of 5 stars SUPER cool!</td>\n",
              "      <td>Rich</td>\n",
              "      <td>5</td>\n",
              "      <td>Super good audio, charges fast and has a long ...</td>\n",
              "      <td>Reviewed in the United States July 21, 2024</td>\n",
              "      <td>AEKO4ZKYO5HYOL7NTE6YSFPHCDBA</td>\n",
              "      <td>True</td>\n",
              "      <td>0</td>\n",
              "      <td>Color: WhiteSet: Studio3</td>\n",
              "    </tr>\n",
              "    <tr>\n",
              "      <th>4</th>\n",
              "      <td>RFGOLBEISEB55</td>\n",
              "      <td>B085296FLT</td>\n",
              "      <td>5.0 out of 5 stars Great Headphones!</td>\n",
              "      <td>Leosha Williams</td>\n",
              "      <td>5</td>\n",
              "      <td>These headphones are absolutely amazing! The v...</td>\n",
              "      <td>Reviewed in the United States June 1, 2024</td>\n",
              "      <td>AFBT2YGFVT6CBITOKGANUEJ5WYHA</td>\n",
              "      <td>True</td>\n",
              "      <td>17</td>\n",
              "      <td>Color: Shadow GraySet: Studio3</td>\n",
              "    </tr>\n",
              "    <tr>\n",
              "      <th>5</th>\n",
              "      <td>R2AGD67A8P04AC</td>\n",
              "      <td>B085296FLT</td>\n",
              "      <td>4.0 out of 5 stars Great headphones, just don'...</td>\n",
              "      <td>Jacob</td>\n",
              "      <td>4</td>\n",
              "      <td>Jan 2023 - First, I am not an audiophile. So, ...</td>\n",
              "      <td>Reviewed in the United States January 23, 2023</td>\n",
              "      <td>AH3SC2BAKM6AA7XJMTJ4KAET6MSQ</td>\n",
              "      <td>True</td>\n",
              "      <td>93</td>\n",
              "      <td>Color: Matte BlackSet: Studio3</td>\n",
              "    </tr>\n",
              "    <tr>\n",
              "      <th>6</th>\n",
              "      <td>R2399XIITPW93N</td>\n",
              "      <td>B085296FLT</td>\n",
              "      <td>5.0 out of 5 stars Works great</td>\n",
              "      <td>Max Rundell</td>\n",
              "      <td>5</td>\n",
              "      <td>They are sleek and great value for the money y...</td>\n",
              "      <td>Reviewed in the United States June 18, 2024</td>\n",
              "      <td>AGONEWJIIDADSFNMIJQESOKWVG3A</td>\n",
              "      <td>True</td>\n",
              "      <td>1</td>\n",
              "      <td>Color: Matte BlackSet: Studio3</td>\n",
              "    </tr>\n",
              "    <tr>\n",
              "      <th>7</th>\n",
              "      <td>R1S3QWGEJLIK7Q</td>\n",
              "      <td>B085296FLT</td>\n",
              "      <td>5.0 out of 5 stars amazing headphones</td>\n",
              "      <td>N/a</td>\n",
              "      <td>5</td>\n",
              "      <td>great headphones, often have very significant ...</td>\n",
              "      <td>Reviewed in the United States June 21, 2024</td>\n",
              "      <td>AGVMWTJXVGQBYWLPQAHT3YPKMC2Q</td>\n",
              "      <td>True</td>\n",
              "      <td>2</td>\n",
              "      <td>Color: Matte BlackSet: Studio3</td>\n",
              "    </tr>\n",
              "    <tr>\n",
              "      <th>8</th>\n",
              "      <td>R1H100TYFQZJLK</td>\n",
              "      <td>B085296FLT</td>\n",
              "      <td>2.0 out of 5 stars Please Read Before Buying.</td>\n",
              "      <td>O.Winnie Mittelberger</td>\n",
              "      <td>2</td>\n",
              "      <td>My rating falls close to a 1.5 for multiple re...</td>\n",
              "      <td>Reviewed in the United States December 29, 2022</td>\n",
              "      <td>AH46ZHN22ZKGHWOM3UMMORBATP2Q</td>\n",
              "      <td>True</td>\n",
              "      <td>928</td>\n",
              "      <td>Color: Matte BlackSet: Studio3</td>\n",
              "    </tr>\n",
              "    <tr>\n",
              "      <th>9</th>\n",
              "      <td>RN5R5UIZT51B</td>\n",
              "      <td>B085296FLT</td>\n",
              "      <td>5.0 out of 5 stars Great Sound Quality!</td>\n",
              "      <td>Anthony</td>\n",
              "      <td>5</td>\n",
              "      <td>I originally wanted to get the AirPods Max, bu...</td>\n",
              "      <td>Reviewed in the United States August 2, 2024</td>\n",
              "      <td>AGKRRTECJOZGUNLJU2QJJRNRYNAA</td>\n",
              "      <td>True</td>\n",
              "      <td>0</td>\n",
              "      <td>Color: WhiteSet: Studio3</td>\n",
              "    </tr>\n",
              "  </tbody>\n",
              "</table>\n",
              "</div>\n",
              "    <div class=\"colab-df-buttons\">\n",
              "\n",
              "  <div class=\"colab-df-container\">\n",
              "    <button class=\"colab-df-convert\" onclick=\"convertToInteractive('df-53fa7d84-69d8-4f55-bfa5-52eea88962cf')\"\n",
              "            title=\"Convert this dataframe to an interactive table.\"\n",
              "            style=\"display:none;\">\n",
              "\n",
              "  <svg xmlns=\"http://www.w3.org/2000/svg\" height=\"24px\" viewBox=\"0 -960 960 960\">\n",
              "    <path d=\"M120-120v-720h720v720H120Zm60-500h600v-160H180v160Zm220 220h160v-160H400v160Zm0 220h160v-160H400v160ZM180-400h160v-160H180v160Zm440 0h160v-160H620v160ZM180-180h160v-160H180v160Zm440 0h160v-160H620v160Z\"/>\n",
              "  </svg>\n",
              "    </button>\n",
              "\n",
              "  <style>\n",
              "    .colab-df-container {\n",
              "      display:flex;\n",
              "      gap: 12px;\n",
              "    }\n",
              "\n",
              "    .colab-df-convert {\n",
              "      background-color: #E8F0FE;\n",
              "      border: none;\n",
              "      border-radius: 50%;\n",
              "      cursor: pointer;\n",
              "      display: none;\n",
              "      fill: #1967D2;\n",
              "      height: 32px;\n",
              "      padding: 0 0 0 0;\n",
              "      width: 32px;\n",
              "    }\n",
              "\n",
              "    .colab-df-convert:hover {\n",
              "      background-color: #E2EBFA;\n",
              "      box-shadow: 0px 1px 2px rgba(60, 64, 67, 0.3), 0px 1px 3px 1px rgba(60, 64, 67, 0.15);\n",
              "      fill: #174EA6;\n",
              "    }\n",
              "\n",
              "    .colab-df-buttons div {\n",
              "      margin-bottom: 4px;\n",
              "    }\n",
              "\n",
              "    [theme=dark] .colab-df-convert {\n",
              "      background-color: #3B4455;\n",
              "      fill: #D2E3FC;\n",
              "    }\n",
              "\n",
              "    [theme=dark] .colab-df-convert:hover {\n",
              "      background-color: #434B5C;\n",
              "      box-shadow: 0px 1px 3px 1px rgba(0, 0, 0, 0.15);\n",
              "      filter: drop-shadow(0px 1px 2px rgba(0, 0, 0, 0.3));\n",
              "      fill: #FFFFFF;\n",
              "    }\n",
              "  </style>\n",
              "\n",
              "    <script>\n",
              "      const buttonEl =\n",
              "        document.querySelector('#df-53fa7d84-69d8-4f55-bfa5-52eea88962cf button.colab-df-convert');\n",
              "      buttonEl.style.display =\n",
              "        google.colab.kernel.accessAllowed ? 'block' : 'none';\n",
              "\n",
              "      async function convertToInteractive(key) {\n",
              "        const element = document.querySelector('#df-53fa7d84-69d8-4f55-bfa5-52eea88962cf');\n",
              "        const dataTable =\n",
              "          await google.colab.kernel.invokeFunction('convertToInteractive',\n",
              "                                                    [key], {});\n",
              "        if (!dataTable) return;\n",
              "\n",
              "        const docLinkHtml = 'Like what you see? Visit the ' +\n",
              "          '<a target=\"_blank\" href=https://colab.research.google.com/notebooks/data_table.ipynb>data table notebook</a>'\n",
              "          + ' to learn more about interactive tables.';\n",
              "        element.innerHTML = '';\n",
              "        dataTable['output_type'] = 'display_data';\n",
              "        await google.colab.output.renderOutput(dataTable, element);\n",
              "        const docLink = document.createElement('div');\n",
              "        docLink.innerHTML = docLinkHtml;\n",
              "        element.appendChild(docLink);\n",
              "      }\n",
              "    </script>\n",
              "  </div>\n",
              "\n",
              "\n",
              "<div id=\"df-a38c4af8-a741-42a6-9b5e-266cb7f3a3a3\">\n",
              "  <button class=\"colab-df-quickchart\" onclick=\"quickchart('df-a38c4af8-a741-42a6-9b5e-266cb7f3a3a3')\"\n",
              "            title=\"Suggest charts\"\n",
              "            style=\"display:none;\">\n",
              "\n",
              "<svg xmlns=\"http://www.w3.org/2000/svg\" height=\"24px\"viewBox=\"0 0 24 24\"\n",
              "     width=\"24px\">\n",
              "    <g>\n",
              "        <path d=\"M19 3H5c-1.1 0-2 .9-2 2v14c0 1.1.9 2 2 2h14c1.1 0 2-.9 2-2V5c0-1.1-.9-2-2-2zM9 17H7v-7h2v7zm4 0h-2V7h2v10zm4 0h-2v-4h2v4z\"/>\n",
              "    </g>\n",
              "</svg>\n",
              "  </button>\n",
              "\n",
              "<style>\n",
              "  .colab-df-quickchart {\n",
              "      --bg-color: #E8F0FE;\n",
              "      --fill-color: #1967D2;\n",
              "      --hover-bg-color: #E2EBFA;\n",
              "      --hover-fill-color: #174EA6;\n",
              "      --disabled-fill-color: #AAA;\n",
              "      --disabled-bg-color: #DDD;\n",
              "  }\n",
              "\n",
              "  [theme=dark] .colab-df-quickchart {\n",
              "      --bg-color: #3B4455;\n",
              "      --fill-color: #D2E3FC;\n",
              "      --hover-bg-color: #434B5C;\n",
              "      --hover-fill-color: #FFFFFF;\n",
              "      --disabled-bg-color: #3B4455;\n",
              "      --disabled-fill-color: #666;\n",
              "  }\n",
              "\n",
              "  .colab-df-quickchart {\n",
              "    background-color: var(--bg-color);\n",
              "    border: none;\n",
              "    border-radius: 50%;\n",
              "    cursor: pointer;\n",
              "    display: none;\n",
              "    fill: var(--fill-color);\n",
              "    height: 32px;\n",
              "    padding: 0;\n",
              "    width: 32px;\n",
              "  }\n",
              "\n",
              "  .colab-df-quickchart:hover {\n",
              "    background-color: var(--hover-bg-color);\n",
              "    box-shadow: 0 1px 2px rgba(60, 64, 67, 0.3), 0 1px 3px 1px rgba(60, 64, 67, 0.15);\n",
              "    fill: var(--button-hover-fill-color);\n",
              "  }\n",
              "\n",
              "  .colab-df-quickchart-complete:disabled,\n",
              "  .colab-df-quickchart-complete:disabled:hover {\n",
              "    background-color: var(--disabled-bg-color);\n",
              "    fill: var(--disabled-fill-color);\n",
              "    box-shadow: none;\n",
              "  }\n",
              "\n",
              "  .colab-df-spinner {\n",
              "    border: 2px solid var(--fill-color);\n",
              "    border-color: transparent;\n",
              "    border-bottom-color: var(--fill-color);\n",
              "    animation:\n",
              "      spin 1s steps(1) infinite;\n",
              "  }\n",
              "\n",
              "  @keyframes spin {\n",
              "    0% {\n",
              "      border-color: transparent;\n",
              "      border-bottom-color: var(--fill-color);\n",
              "      border-left-color: var(--fill-color);\n",
              "    }\n",
              "    20% {\n",
              "      border-color: transparent;\n",
              "      border-left-color: var(--fill-color);\n",
              "      border-top-color: var(--fill-color);\n",
              "    }\n",
              "    30% {\n",
              "      border-color: transparent;\n",
              "      border-left-color: var(--fill-color);\n",
              "      border-top-color: var(--fill-color);\n",
              "      border-right-color: var(--fill-color);\n",
              "    }\n",
              "    40% {\n",
              "      border-color: transparent;\n",
              "      border-right-color: var(--fill-color);\n",
              "      border-top-color: var(--fill-color);\n",
              "    }\n",
              "    60% {\n",
              "      border-color: transparent;\n",
              "      border-right-color: var(--fill-color);\n",
              "    }\n",
              "    80% {\n",
              "      border-color: transparent;\n",
              "      border-right-color: var(--fill-color);\n",
              "      border-bottom-color: var(--fill-color);\n",
              "    }\n",
              "    90% {\n",
              "      border-color: transparent;\n",
              "      border-bottom-color: var(--fill-color);\n",
              "    }\n",
              "  }\n",
              "</style>\n",
              "\n",
              "  <script>\n",
              "    async function quickchart(key) {\n",
              "      const quickchartButtonEl =\n",
              "        document.querySelector('#' + key + ' button');\n",
              "      quickchartButtonEl.disabled = true;  // To prevent multiple clicks.\n",
              "      quickchartButtonEl.classList.add('colab-df-spinner');\n",
              "      try {\n",
              "        const charts = await google.colab.kernel.invokeFunction(\n",
              "            'suggestCharts', [key], {});\n",
              "      } catch (error) {\n",
              "        console.error('Error during call to suggestCharts:', error);\n",
              "      }\n",
              "      quickchartButtonEl.classList.remove('colab-df-spinner');\n",
              "      quickchartButtonEl.classList.add('colab-df-quickchart-complete');\n",
              "    }\n",
              "    (() => {\n",
              "      let quickchartButtonEl =\n",
              "        document.querySelector('#df-a38c4af8-a741-42a6-9b5e-266cb7f3a3a3 button');\n",
              "      quickchartButtonEl.style.display =\n",
              "        google.colab.kernel.accessAllowed ? 'block' : 'none';\n",
              "    })();\n",
              "  </script>\n",
              "</div>\n",
              "\n",
              "    </div>\n",
              "  </div>\n"
            ],
            "application/vnd.google.colaboratory.intrinsic+json": {
              "type": "dataframe",
              "variable_name": "df",
              "summary": "{\n  \"name\": \"df\",\n  \"rows\": 1000,\n  \"fields\": [\n    {\n      \"column\": \"review_id\",\n      \"properties\": {\n        \"dtype\": \"string\",\n        \"num_unique_values\": 1000,\n        \"samples\": [\n          \"R2FOGJ90HLDX2H\",\n          \"RO7YV48UT82P3\",\n          \"RZ8KM6BAS82HD\"\n        ],\n        \"semantic_type\": \"\",\n        \"description\": \"\"\n      }\n    },\n    {\n      \"column\": \"product_id\",\n      \"properties\": {\n        \"dtype\": \"category\",\n        \"num_unique_values\": 10,\n        \"samples\": [\n          \"B0CCZ1SQ8G\",\n          \"B09XS7JWHH\",\n          \"B08WR6YDKP\"\n        ],\n        \"semantic_type\": \"\",\n        \"description\": \"\"\n      }\n    },\n    {\n      \"column\": \"title\",\n      \"properties\": {\n        \"dtype\": \"string\",\n        \"num_unique_values\": 926,\n        \"samples\": [\n          \"5.0 out of 5 stars excelente sonido\",\n          \"3.0 out of 5 stars Good sound quality & unobtrusive ANC, but not very comfortable and causes Teams to crash\",\n          \"5.0 out of 5 stars Perfect\"\n        ],\n        \"semantic_type\": \"\",\n        \"description\": \"\"\n      }\n    },\n    {\n      \"column\": \"author\",\n      \"properties\": {\n        \"dtype\": \"string\",\n        \"num_unique_values\": 922,\n        \"samples\": [\n          \"Beth Palmer\",\n          \"Jerilee\",\n          \"Britt McCoy\"\n        ],\n        \"semantic_type\": \"\",\n        \"description\": \"\"\n      }\n    },\n    {\n      \"column\": \"rating\",\n      \"properties\": {\n        \"dtype\": \"number\",\n        \"std\": 0,\n        \"min\": 1,\n        \"max\": 5,\n        \"num_unique_values\": 5,\n        \"samples\": [\n          4,\n          1,\n          2\n        ],\n        \"semantic_type\": \"\",\n        \"description\": \"\"\n      }\n    },\n    {\n      \"column\": \"content\",\n      \"properties\": {\n        \"dtype\": \"string\",\n        \"num_unique_values\": 1000,\n        \"samples\": [\n          \"if i\\u2019m being honest, i\\u2019ve had better headphones, and the only reason i got these was due to my dog chewing my other ones, but everything considered, (the price) they are pretty solid. the noise cancellation isn\\u2019t perfect but does the job when you\\u2019re trying to avoid people. the only problem i\\u2019ve found with these is that the ear covers are small, and anyone with decent size ears is gonna be pissed. but other than that, they do this cool thing where the music will pause when u take one off. i really just wish the ear muffs were bigger, because it\\u2019s pissing me off tbh. the bass is GREAT. and it sounds good asf. anyways, get uhm if u don\\u2019t have that many funds. but honestly if you have wiggle room, go for airpods, or bose headphones. they are just better in my opinion. anyways have a good one.\",\n          \"This are very comfortable. I have bought several cheaper brands that were really uncomfortable these are not. I like that the app works well. It sounds great and connects effortlessly. It also has a long battery life. I wish I would have bought these soon.\",\n          \"Got these as a grad gift for my sister and we tested them out. The padding is SO comfy and the noise cancelling is great!\"\n        ],\n        \"semantic_type\": \"\",\n        \"description\": \"\"\n      }\n    },\n    {\n      \"column\": \"timestamp\",\n      \"properties\": {\n        \"dtype\": \"category\",\n        \"num_unique_values\": 372,\n        \"samples\": [\n          \"Reviewed in the United States September 1, 2020\",\n          \"Reviewed in the United States July 17, 2024\",\n          \"Reviewed in the United States July 24, 2024\"\n        ],\n        \"semantic_type\": \"\",\n        \"description\": \"\"\n      }\n    },\n    {\n      \"column\": \"profile_id\",\n      \"properties\": {\n        \"dtype\": \"string\",\n        \"num_unique_values\": 997,\n        \"samples\": [\n          \"AHF4PGGEILX4T2CZENORXNXGJXNA\",\n          \"AFIGEBJFVEIKAN2BRR6NP3TGX2JQ\",\n          \"AFZMD6OAZU4QLJ5246VK63NCBQYQ\"\n        ],\n        \"semantic_type\": \"\",\n        \"description\": \"\"\n      }\n    },\n    {\n      \"column\": \"is_verified\",\n      \"properties\": {\n        \"dtype\": \"boolean\",\n        \"num_unique_values\": 1,\n        \"samples\": [\n          true\n        ],\n        \"semantic_type\": \"\",\n        \"description\": \"\"\n      }\n    },\n    {\n      \"column\": \"helpful_count\",\n      \"properties\": {\n        \"dtype\": \"number\",\n        \"std\": 66,\n        \"min\": 0,\n        \"max\": 1394,\n        \"num_unique_values\": 73,\n        \"samples\": [\n          17\n        ],\n        \"semantic_type\": \"\",\n        \"description\": \"\"\n      }\n    },\n    {\n      \"column\": \"product_attributes\",\n      \"properties\": {\n        \"dtype\": \"category\",\n        \"num_unique_values\": 32,\n        \"samples\": [\n          \"Color: WHITE\"\n        ],\n        \"semantic_type\": \"\",\n        \"description\": \"\"\n      }\n    }\n  ]\n}"
            }
          },
          "metadata": {},
          "execution_count": 3
        }
      ]
    },
    {
      "cell_type": "code",
      "source": [
        "# Check the column names and data types to understand the structure of the data\n",
        "df.columns\n",
        "df.dtypes"
      ],
      "metadata": {
        "id": "ZUXEgBktGf1q",
        "colab": {
          "base_uri": "https://localhost:8080/",
          "height": 429
        },
        "outputId": "7d783ab5-75cd-4246-ed71-ffdbdb9885bb"
      },
      "execution_count": null,
      "outputs": [
        {
          "output_type": "execute_result",
          "data": {
            "text/plain": [
              "review_id             object\n",
              "product_id            object\n",
              "title                 object\n",
              "author                object\n",
              "rating                 int64\n",
              "content               object\n",
              "timestamp             object\n",
              "profile_id            object\n",
              "is_verified             bool\n",
              "helpful_count          int64\n",
              "product_attributes    object\n",
              "dtype: object"
            ],
            "text/html": [
              "<div>\n",
              "<style scoped>\n",
              "    .dataframe tbody tr th:only-of-type {\n",
              "        vertical-align: middle;\n",
              "    }\n",
              "\n",
              "    .dataframe tbody tr th {\n",
              "        vertical-align: top;\n",
              "    }\n",
              "\n",
              "    .dataframe thead th {\n",
              "        text-align: right;\n",
              "    }\n",
              "</style>\n",
              "<table border=\"1\" class=\"dataframe\">\n",
              "  <thead>\n",
              "    <tr style=\"text-align: right;\">\n",
              "      <th></th>\n",
              "      <th>0</th>\n",
              "    </tr>\n",
              "  </thead>\n",
              "  <tbody>\n",
              "    <tr>\n",
              "      <th>review_id</th>\n",
              "      <td>object</td>\n",
              "    </tr>\n",
              "    <tr>\n",
              "      <th>product_id</th>\n",
              "      <td>object</td>\n",
              "    </tr>\n",
              "    <tr>\n",
              "      <th>title</th>\n",
              "      <td>object</td>\n",
              "    </tr>\n",
              "    <tr>\n",
              "      <th>author</th>\n",
              "      <td>object</td>\n",
              "    </tr>\n",
              "    <tr>\n",
              "      <th>rating</th>\n",
              "      <td>int64</td>\n",
              "    </tr>\n",
              "    <tr>\n",
              "      <th>content</th>\n",
              "      <td>object</td>\n",
              "    </tr>\n",
              "    <tr>\n",
              "      <th>timestamp</th>\n",
              "      <td>object</td>\n",
              "    </tr>\n",
              "    <tr>\n",
              "      <th>profile_id</th>\n",
              "      <td>object</td>\n",
              "    </tr>\n",
              "    <tr>\n",
              "      <th>is_verified</th>\n",
              "      <td>bool</td>\n",
              "    </tr>\n",
              "    <tr>\n",
              "      <th>helpful_count</th>\n",
              "      <td>int64</td>\n",
              "    </tr>\n",
              "    <tr>\n",
              "      <th>product_attributes</th>\n",
              "      <td>object</td>\n",
              "    </tr>\n",
              "  </tbody>\n",
              "</table>\n",
              "</div><br><label><b>dtype:</b> object</label>"
            ]
          },
          "metadata": {},
          "execution_count": 4
        }
      ]
    },
    {
      "cell_type": "code",
      "source": [
        "# Identify missing values in the dataset\n",
        "df.isnull().sum()"
      ],
      "metadata": {
        "id": "RyCPq6PlGlkI",
        "colab": {
          "base_uri": "https://localhost:8080/",
          "height": 429
        },
        "outputId": "7d2af26b-9565-4b88-8936-0ad254280324"
      },
      "execution_count": null,
      "outputs": [
        {
          "output_type": "execute_result",
          "data": {
            "text/plain": [
              "review_id              0\n",
              "product_id             0\n",
              "title                  0\n",
              "author                 1\n",
              "rating                 0\n",
              "content                0\n",
              "timestamp              0\n",
              "profile_id             0\n",
              "is_verified            0\n",
              "helpful_count          0\n",
              "product_attributes    72\n",
              "dtype: int64"
            ],
            "text/html": [
              "<div>\n",
              "<style scoped>\n",
              "    .dataframe tbody tr th:only-of-type {\n",
              "        vertical-align: middle;\n",
              "    }\n",
              "\n",
              "    .dataframe tbody tr th {\n",
              "        vertical-align: top;\n",
              "    }\n",
              "\n",
              "    .dataframe thead th {\n",
              "        text-align: right;\n",
              "    }\n",
              "</style>\n",
              "<table border=\"1\" class=\"dataframe\">\n",
              "  <thead>\n",
              "    <tr style=\"text-align: right;\">\n",
              "      <th></th>\n",
              "      <th>0</th>\n",
              "    </tr>\n",
              "  </thead>\n",
              "  <tbody>\n",
              "    <tr>\n",
              "      <th>review_id</th>\n",
              "      <td>0</td>\n",
              "    </tr>\n",
              "    <tr>\n",
              "      <th>product_id</th>\n",
              "      <td>0</td>\n",
              "    </tr>\n",
              "    <tr>\n",
              "      <th>title</th>\n",
              "      <td>0</td>\n",
              "    </tr>\n",
              "    <tr>\n",
              "      <th>author</th>\n",
              "      <td>1</td>\n",
              "    </tr>\n",
              "    <tr>\n",
              "      <th>rating</th>\n",
              "      <td>0</td>\n",
              "    </tr>\n",
              "    <tr>\n",
              "      <th>content</th>\n",
              "      <td>0</td>\n",
              "    </tr>\n",
              "    <tr>\n",
              "      <th>timestamp</th>\n",
              "      <td>0</td>\n",
              "    </tr>\n",
              "    <tr>\n",
              "      <th>profile_id</th>\n",
              "      <td>0</td>\n",
              "    </tr>\n",
              "    <tr>\n",
              "      <th>is_verified</th>\n",
              "      <td>0</td>\n",
              "    </tr>\n",
              "    <tr>\n",
              "      <th>helpful_count</th>\n",
              "      <td>0</td>\n",
              "    </tr>\n",
              "    <tr>\n",
              "      <th>product_attributes</th>\n",
              "      <td>72</td>\n",
              "    </tr>\n",
              "  </tbody>\n",
              "</table>\n",
              "</div><br><label><b>dtype:</b> int64</label>"
            ]
          },
          "metadata": {},
          "execution_count": 5
        }
      ]
    },
    {
      "cell_type": "markdown",
      "source": [
        "### Handle missing values and drop columns"
      ],
      "metadata": {
        "id": "fapaIXslHBBa"
      }
    },
    {
      "cell_type": "code",
      "source": [
        "# Replace missing values in 'product_attributes' and 'author' columns with 'Unknown'\n",
        "df = df.fillna({'product_attributes': 'Unknown', 'author':'Unknown'})"
      ],
      "metadata": {
        "id": "ymRPIwwZGxzC"
      },
      "execution_count": null,
      "outputs": []
    },
    {
      "cell_type": "code",
      "source": [
        "# Drop the review_id column since it will not be used for analysis\n",
        "\n",
        "df.drop('review_id', axis=1, inplace=True)"
      ],
      "metadata": {
        "id": "VuPxMAPcx7KR"
      },
      "execution_count": null,
      "outputs": []
    },
    {
      "cell_type": "markdown",
      "source": [
        "### Convert the 'timestamp' column from a string to a datetime format"
      ],
      "metadata": {
        "id": "yU_mUrYlHsys"
      }
    },
    {
      "cell_type": "code",
      "source": [
        "# First, extract the date part of the timestamp string\n",
        "def extract(timestamp):\n",
        "  words = timestamp.split()\n",
        "  date_split = words[-3:]\n",
        "  date_extract = ' '.join(date_split)\n",
        "  return date_extract\n",
        "\n",
        "# Apply the extraction function and convert the 'timestamp' column to datetime\n",
        "df['timestamp'] = df['timestamp'].apply(extract)\n",
        "df['timestamp'] = pd.to_datetime(df['timestamp'])"
      ],
      "metadata": {
        "id": "9XMhBD_VG47w"
      },
      "execution_count": null,
      "outputs": []
    },
    {
      "cell_type": "code",
      "source": [
        "df.head()"
      ],
      "metadata": {
        "id": "_AG8T56yIBAL",
        "colab": {
          "base_uri": "https://localhost:8080/",
          "height": 293
        },
        "outputId": "c0d18557-e458-4d47-f0e4-f1782e2327be"
      },
      "execution_count": null,
      "outputs": [
        {
          "output_type": "execute_result",
          "data": {
            "text/plain": [
              "   product_id                                       title           author  \\\n",
              "0  B085296FLT        5.0 out of 5 stars Great headphones!   Talia Calazans   \n",
              "1  B085296FLT  5.0 out of 5 stars Great quality and price            SethB   \n",
              "2  B085296FLT       5.0 out of 5 stars LONG battery life.           Julian   \n",
              "3  B085296FLT              5.0 out of 5 stars SUPER cool!             Rich   \n",
              "4  B085296FLT        5.0 out of 5 stars Great Headphones!  Leosha Williams   \n",
              "\n",
              "   rating                                            content  timestamp  \\\n",
              "0       5  I love these headphones, and I wear them all t... 2024-06-01   \n",
              "1       5  I got these because my old pair finally broke ... 2024-07-18   \n",
              "2       5  I recently invested in the Beats Studio3 Wirel... 2024-03-03   \n",
              "3       5  Super good audio, charges fast and has a long ... 2024-07-21   \n",
              "4       5  These headphones are absolutely amazing! The v... 2024-06-01   \n",
              "\n",
              "                     profile_id  is_verified  helpful_count  \\\n",
              "0  AG6TODKB7VQYDH7KJ2MKHF6RQEGA         True              7   \n",
              "1  AFCW3Q2AD5H4JEZUZN753EL5D6QA         True              1   \n",
              "2  AHUVU5TLJQFQMZKFR7YKDB55USPA         True             22   \n",
              "3  AEKO4ZKYO5HYOL7NTE6YSFPHCDBA         True              0   \n",
              "4  AFBT2YGFVT6CBITOKGANUEJ5WYHA         True             17   \n",
              "\n",
              "                  product_attributes  \n",
              "0     Color: Shadow GraySet: Studio3  \n",
              "1     Color: Shadow GraySet: Studio3  \n",
              "2  Color: Midnight BlackSet: Studio3  \n",
              "3           Color: WhiteSet: Studio3  \n",
              "4     Color: Shadow GraySet: Studio3  "
            ],
            "text/html": [
              "\n",
              "  <div id=\"df-343b5c38-2e0b-48db-9016-b5e170e6df21\" class=\"colab-df-container\">\n",
              "    <div>\n",
              "<style scoped>\n",
              "    .dataframe tbody tr th:only-of-type {\n",
              "        vertical-align: middle;\n",
              "    }\n",
              "\n",
              "    .dataframe tbody tr th {\n",
              "        vertical-align: top;\n",
              "    }\n",
              "\n",
              "    .dataframe thead th {\n",
              "        text-align: right;\n",
              "    }\n",
              "</style>\n",
              "<table border=\"1\" class=\"dataframe\">\n",
              "  <thead>\n",
              "    <tr style=\"text-align: right;\">\n",
              "      <th></th>\n",
              "      <th>product_id</th>\n",
              "      <th>title</th>\n",
              "      <th>author</th>\n",
              "      <th>rating</th>\n",
              "      <th>content</th>\n",
              "      <th>timestamp</th>\n",
              "      <th>profile_id</th>\n",
              "      <th>is_verified</th>\n",
              "      <th>helpful_count</th>\n",
              "      <th>product_attributes</th>\n",
              "    </tr>\n",
              "  </thead>\n",
              "  <tbody>\n",
              "    <tr>\n",
              "      <th>0</th>\n",
              "      <td>B085296FLT</td>\n",
              "      <td>5.0 out of 5 stars Great headphones!</td>\n",
              "      <td>Talia Calazans</td>\n",
              "      <td>5</td>\n",
              "      <td>I love these headphones, and I wear them all t...</td>\n",
              "      <td>2024-06-01</td>\n",
              "      <td>AG6TODKB7VQYDH7KJ2MKHF6RQEGA</td>\n",
              "      <td>True</td>\n",
              "      <td>7</td>\n",
              "      <td>Color: Shadow GraySet: Studio3</td>\n",
              "    </tr>\n",
              "    <tr>\n",
              "      <th>1</th>\n",
              "      <td>B085296FLT</td>\n",
              "      <td>5.0 out of 5 stars Great quality and price</td>\n",
              "      <td>SethB</td>\n",
              "      <td>5</td>\n",
              "      <td>I got these because my old pair finally broke ...</td>\n",
              "      <td>2024-07-18</td>\n",
              "      <td>AFCW3Q2AD5H4JEZUZN753EL5D6QA</td>\n",
              "      <td>True</td>\n",
              "      <td>1</td>\n",
              "      <td>Color: Shadow GraySet: Studio3</td>\n",
              "    </tr>\n",
              "    <tr>\n",
              "      <th>2</th>\n",
              "      <td>B085296FLT</td>\n",
              "      <td>5.0 out of 5 stars LONG battery life.</td>\n",
              "      <td>Julian</td>\n",
              "      <td>5</td>\n",
              "      <td>I recently invested in the Beats Studio3 Wirel...</td>\n",
              "      <td>2024-03-03</td>\n",
              "      <td>AHUVU5TLJQFQMZKFR7YKDB55USPA</td>\n",
              "      <td>True</td>\n",
              "      <td>22</td>\n",
              "      <td>Color: Midnight BlackSet: Studio3</td>\n",
              "    </tr>\n",
              "    <tr>\n",
              "      <th>3</th>\n",
              "      <td>B085296FLT</td>\n",
              "      <td>5.0 out of 5 stars SUPER cool!</td>\n",
              "      <td>Rich</td>\n",
              "      <td>5</td>\n",
              "      <td>Super good audio, charges fast and has a long ...</td>\n",
              "      <td>2024-07-21</td>\n",
              "      <td>AEKO4ZKYO5HYOL7NTE6YSFPHCDBA</td>\n",
              "      <td>True</td>\n",
              "      <td>0</td>\n",
              "      <td>Color: WhiteSet: Studio3</td>\n",
              "    </tr>\n",
              "    <tr>\n",
              "      <th>4</th>\n",
              "      <td>B085296FLT</td>\n",
              "      <td>5.0 out of 5 stars Great Headphones!</td>\n",
              "      <td>Leosha Williams</td>\n",
              "      <td>5</td>\n",
              "      <td>These headphones are absolutely amazing! The v...</td>\n",
              "      <td>2024-06-01</td>\n",
              "      <td>AFBT2YGFVT6CBITOKGANUEJ5WYHA</td>\n",
              "      <td>True</td>\n",
              "      <td>17</td>\n",
              "      <td>Color: Shadow GraySet: Studio3</td>\n",
              "    </tr>\n",
              "  </tbody>\n",
              "</table>\n",
              "</div>\n",
              "    <div class=\"colab-df-buttons\">\n",
              "\n",
              "  <div class=\"colab-df-container\">\n",
              "    <button class=\"colab-df-convert\" onclick=\"convertToInteractive('df-343b5c38-2e0b-48db-9016-b5e170e6df21')\"\n",
              "            title=\"Convert this dataframe to an interactive table.\"\n",
              "            style=\"display:none;\">\n",
              "\n",
              "  <svg xmlns=\"http://www.w3.org/2000/svg\" height=\"24px\" viewBox=\"0 -960 960 960\">\n",
              "    <path d=\"M120-120v-720h720v720H120Zm60-500h600v-160H180v160Zm220 220h160v-160H400v160Zm0 220h160v-160H400v160ZM180-400h160v-160H180v160Zm440 0h160v-160H620v160ZM180-180h160v-160H180v160Zm440 0h160v-160H620v160Z\"/>\n",
              "  </svg>\n",
              "    </button>\n",
              "\n",
              "  <style>\n",
              "    .colab-df-container {\n",
              "      display:flex;\n",
              "      gap: 12px;\n",
              "    }\n",
              "\n",
              "    .colab-df-convert {\n",
              "      background-color: #E8F0FE;\n",
              "      border: none;\n",
              "      border-radius: 50%;\n",
              "      cursor: pointer;\n",
              "      display: none;\n",
              "      fill: #1967D2;\n",
              "      height: 32px;\n",
              "      padding: 0 0 0 0;\n",
              "      width: 32px;\n",
              "    }\n",
              "\n",
              "    .colab-df-convert:hover {\n",
              "      background-color: #E2EBFA;\n",
              "      box-shadow: 0px 1px 2px rgba(60, 64, 67, 0.3), 0px 1px 3px 1px rgba(60, 64, 67, 0.15);\n",
              "      fill: #174EA6;\n",
              "    }\n",
              "\n",
              "    .colab-df-buttons div {\n",
              "      margin-bottom: 4px;\n",
              "    }\n",
              "\n",
              "    [theme=dark] .colab-df-convert {\n",
              "      background-color: #3B4455;\n",
              "      fill: #D2E3FC;\n",
              "    }\n",
              "\n",
              "    [theme=dark] .colab-df-convert:hover {\n",
              "      background-color: #434B5C;\n",
              "      box-shadow: 0px 1px 3px 1px rgba(0, 0, 0, 0.15);\n",
              "      filter: drop-shadow(0px 1px 2px rgba(0, 0, 0, 0.3));\n",
              "      fill: #FFFFFF;\n",
              "    }\n",
              "  </style>\n",
              "\n",
              "    <script>\n",
              "      const buttonEl =\n",
              "        document.querySelector('#df-343b5c38-2e0b-48db-9016-b5e170e6df21 button.colab-df-convert');\n",
              "      buttonEl.style.display =\n",
              "        google.colab.kernel.accessAllowed ? 'block' : 'none';\n",
              "\n",
              "      async function convertToInteractive(key) {\n",
              "        const element = document.querySelector('#df-343b5c38-2e0b-48db-9016-b5e170e6df21');\n",
              "        const dataTable =\n",
              "          await google.colab.kernel.invokeFunction('convertToInteractive',\n",
              "                                                    [key], {});\n",
              "        if (!dataTable) return;\n",
              "\n",
              "        const docLinkHtml = 'Like what you see? Visit the ' +\n",
              "          '<a target=\"_blank\" href=https://colab.research.google.com/notebooks/data_table.ipynb>data table notebook</a>'\n",
              "          + ' to learn more about interactive tables.';\n",
              "        element.innerHTML = '';\n",
              "        dataTable['output_type'] = 'display_data';\n",
              "        await google.colab.output.renderOutput(dataTable, element);\n",
              "        const docLink = document.createElement('div');\n",
              "        docLink.innerHTML = docLinkHtml;\n",
              "        element.appendChild(docLink);\n",
              "      }\n",
              "    </script>\n",
              "  </div>\n",
              "\n",
              "\n",
              "<div id=\"df-7d2b2eab-123c-4e43-8fa7-a4b110bdd4a1\">\n",
              "  <button class=\"colab-df-quickchart\" onclick=\"quickchart('df-7d2b2eab-123c-4e43-8fa7-a4b110bdd4a1')\"\n",
              "            title=\"Suggest charts\"\n",
              "            style=\"display:none;\">\n",
              "\n",
              "<svg xmlns=\"http://www.w3.org/2000/svg\" height=\"24px\"viewBox=\"0 0 24 24\"\n",
              "     width=\"24px\">\n",
              "    <g>\n",
              "        <path d=\"M19 3H5c-1.1 0-2 .9-2 2v14c0 1.1.9 2 2 2h14c1.1 0 2-.9 2-2V5c0-1.1-.9-2-2-2zM9 17H7v-7h2v7zm4 0h-2V7h2v10zm4 0h-2v-4h2v4z\"/>\n",
              "    </g>\n",
              "</svg>\n",
              "  </button>\n",
              "\n",
              "<style>\n",
              "  .colab-df-quickchart {\n",
              "      --bg-color: #E8F0FE;\n",
              "      --fill-color: #1967D2;\n",
              "      --hover-bg-color: #E2EBFA;\n",
              "      --hover-fill-color: #174EA6;\n",
              "      --disabled-fill-color: #AAA;\n",
              "      --disabled-bg-color: #DDD;\n",
              "  }\n",
              "\n",
              "  [theme=dark] .colab-df-quickchart {\n",
              "      --bg-color: #3B4455;\n",
              "      --fill-color: #D2E3FC;\n",
              "      --hover-bg-color: #434B5C;\n",
              "      --hover-fill-color: #FFFFFF;\n",
              "      --disabled-bg-color: #3B4455;\n",
              "      --disabled-fill-color: #666;\n",
              "  }\n",
              "\n",
              "  .colab-df-quickchart {\n",
              "    background-color: var(--bg-color);\n",
              "    border: none;\n",
              "    border-radius: 50%;\n",
              "    cursor: pointer;\n",
              "    display: none;\n",
              "    fill: var(--fill-color);\n",
              "    height: 32px;\n",
              "    padding: 0;\n",
              "    width: 32px;\n",
              "  }\n",
              "\n",
              "  .colab-df-quickchart:hover {\n",
              "    background-color: var(--hover-bg-color);\n",
              "    box-shadow: 0 1px 2px rgba(60, 64, 67, 0.3), 0 1px 3px 1px rgba(60, 64, 67, 0.15);\n",
              "    fill: var(--button-hover-fill-color);\n",
              "  }\n",
              "\n",
              "  .colab-df-quickchart-complete:disabled,\n",
              "  .colab-df-quickchart-complete:disabled:hover {\n",
              "    background-color: var(--disabled-bg-color);\n",
              "    fill: var(--disabled-fill-color);\n",
              "    box-shadow: none;\n",
              "  }\n",
              "\n",
              "  .colab-df-spinner {\n",
              "    border: 2px solid var(--fill-color);\n",
              "    border-color: transparent;\n",
              "    border-bottom-color: var(--fill-color);\n",
              "    animation:\n",
              "      spin 1s steps(1) infinite;\n",
              "  }\n",
              "\n",
              "  @keyframes spin {\n",
              "    0% {\n",
              "      border-color: transparent;\n",
              "      border-bottom-color: var(--fill-color);\n",
              "      border-left-color: var(--fill-color);\n",
              "    }\n",
              "    20% {\n",
              "      border-color: transparent;\n",
              "      border-left-color: var(--fill-color);\n",
              "      border-top-color: var(--fill-color);\n",
              "    }\n",
              "    30% {\n",
              "      border-color: transparent;\n",
              "      border-left-color: var(--fill-color);\n",
              "      border-top-color: var(--fill-color);\n",
              "      border-right-color: var(--fill-color);\n",
              "    }\n",
              "    40% {\n",
              "      border-color: transparent;\n",
              "      border-right-color: var(--fill-color);\n",
              "      border-top-color: var(--fill-color);\n",
              "    }\n",
              "    60% {\n",
              "      border-color: transparent;\n",
              "      border-right-color: var(--fill-color);\n",
              "    }\n",
              "    80% {\n",
              "      border-color: transparent;\n",
              "      border-right-color: var(--fill-color);\n",
              "      border-bottom-color: var(--fill-color);\n",
              "    }\n",
              "    90% {\n",
              "      border-color: transparent;\n",
              "      border-bottom-color: var(--fill-color);\n",
              "    }\n",
              "  }\n",
              "</style>\n",
              "\n",
              "  <script>\n",
              "    async function quickchart(key) {\n",
              "      const quickchartButtonEl =\n",
              "        document.querySelector('#' + key + ' button');\n",
              "      quickchartButtonEl.disabled = true;  // To prevent multiple clicks.\n",
              "      quickchartButtonEl.classList.add('colab-df-spinner');\n",
              "      try {\n",
              "        const charts = await google.colab.kernel.invokeFunction(\n",
              "            'suggestCharts', [key], {});\n",
              "      } catch (error) {\n",
              "        console.error('Error during call to suggestCharts:', error);\n",
              "      }\n",
              "      quickchartButtonEl.classList.remove('colab-df-spinner');\n",
              "      quickchartButtonEl.classList.add('colab-df-quickchart-complete');\n",
              "    }\n",
              "    (() => {\n",
              "      let quickchartButtonEl =\n",
              "        document.querySelector('#df-7d2b2eab-123c-4e43-8fa7-a4b110bdd4a1 button');\n",
              "      quickchartButtonEl.style.display =\n",
              "        google.colab.kernel.accessAllowed ? 'block' : 'none';\n",
              "    })();\n",
              "  </script>\n",
              "</div>\n",
              "\n",
              "    </div>\n",
              "  </div>\n"
            ],
            "application/vnd.google.colaboratory.intrinsic+json": {
              "type": "dataframe",
              "variable_name": "df",
              "summary": "{\n  \"name\": \"df\",\n  \"rows\": 1000,\n  \"fields\": [\n    {\n      \"column\": \"product_id\",\n      \"properties\": {\n        \"dtype\": \"category\",\n        \"num_unique_values\": 10,\n        \"samples\": [\n          \"B0CCZ1SQ8G\",\n          \"B09XS7JWHH\",\n          \"B08WR6YDKP\"\n        ],\n        \"semantic_type\": \"\",\n        \"description\": \"\"\n      }\n    },\n    {\n      \"column\": \"title\",\n      \"properties\": {\n        \"dtype\": \"string\",\n        \"num_unique_values\": 926,\n        \"samples\": [\n          \"5.0 out of 5 stars excelente sonido\",\n          \"3.0 out of 5 stars Good sound quality & unobtrusive ANC, but not very comfortable and causes Teams to crash\",\n          \"5.0 out of 5 stars Perfect\"\n        ],\n        \"semantic_type\": \"\",\n        \"description\": \"\"\n      }\n    },\n    {\n      \"column\": \"author\",\n      \"properties\": {\n        \"dtype\": \"string\",\n        \"num_unique_values\": 923,\n        \"samples\": [\n          \"Phillip\",\n          \"Andrew Kratz\",\n          \"Terysa\"\n        ],\n        \"semantic_type\": \"\",\n        \"description\": \"\"\n      }\n    },\n    {\n      \"column\": \"rating\",\n      \"properties\": {\n        \"dtype\": \"number\",\n        \"std\": 0,\n        \"min\": 1,\n        \"max\": 5,\n        \"num_unique_values\": 5,\n        \"samples\": [\n          4,\n          1,\n          2\n        ],\n        \"semantic_type\": \"\",\n        \"description\": \"\"\n      }\n    },\n    {\n      \"column\": \"content\",\n      \"properties\": {\n        \"dtype\": \"string\",\n        \"num_unique_values\": 1000,\n        \"samples\": [\n          \"if i\\u2019m being honest, i\\u2019ve had better headphones, and the only reason i got these was due to my dog chewing my other ones, but everything considered, (the price) they are pretty solid. the noise cancellation isn\\u2019t perfect but does the job when you\\u2019re trying to avoid people. the only problem i\\u2019ve found with these is that the ear covers are small, and anyone with decent size ears is gonna be pissed. but other than that, they do this cool thing where the music will pause when u take one off. i really just wish the ear muffs were bigger, because it\\u2019s pissing me off tbh. the bass is GREAT. and it sounds good asf. anyways, get uhm if u don\\u2019t have that many funds. but honestly if you have wiggle room, go for airpods, or bose headphones. they are just better in my opinion. anyways have a good one.\",\n          \"This are very comfortable. I have bought several cheaper brands that were really uncomfortable these are not. I like that the app works well. It sounds great and connects effortlessly. It also has a long battery life. I wish I would have bought these soon.\",\n          \"Got these as a grad gift for my sister and we tested them out. The padding is SO comfy and the noise cancelling is great!\"\n        ],\n        \"semantic_type\": \"\",\n        \"description\": \"\"\n      }\n    },\n    {\n      \"column\": \"timestamp\",\n      \"properties\": {\n        \"dtype\": \"date\",\n        \"min\": \"2018-01-11 00:00:00\",\n        \"max\": \"2024-08-11 00:00:00\",\n        \"num_unique_values\": 372,\n        \"samples\": [\n          \"2020-09-01 00:00:00\",\n          \"2024-07-17 00:00:00\",\n          \"2024-07-24 00:00:00\"\n        ],\n        \"semantic_type\": \"\",\n        \"description\": \"\"\n      }\n    },\n    {\n      \"column\": \"profile_id\",\n      \"properties\": {\n        \"dtype\": \"string\",\n        \"num_unique_values\": 997,\n        \"samples\": [\n          \"AHF4PGGEILX4T2CZENORXNXGJXNA\",\n          \"AFIGEBJFVEIKAN2BRR6NP3TGX2JQ\",\n          \"AFZMD6OAZU4QLJ5246VK63NCBQYQ\"\n        ],\n        \"semantic_type\": \"\",\n        \"description\": \"\"\n      }\n    },\n    {\n      \"column\": \"is_verified\",\n      \"properties\": {\n        \"dtype\": \"boolean\",\n        \"num_unique_values\": 1,\n        \"samples\": [\n          true\n        ],\n        \"semantic_type\": \"\",\n        \"description\": \"\"\n      }\n    },\n    {\n      \"column\": \"helpful_count\",\n      \"properties\": {\n        \"dtype\": \"number\",\n        \"std\": 66,\n        \"min\": 0,\n        \"max\": 1394,\n        \"num_unique_values\": 73,\n        \"samples\": [\n          17\n        ],\n        \"semantic_type\": \"\",\n        \"description\": \"\"\n      }\n    },\n    {\n      \"column\": \"product_attributes\",\n      \"properties\": {\n        \"dtype\": \"category\",\n        \"num_unique_values\": 33,\n        \"samples\": [\n          \"Color: Cypress Green\"\n        ],\n        \"semantic_type\": \"\",\n        \"description\": \"\"\n      }\n    }\n  ]\n}"
            }
          },
          "metadata": {},
          "execution_count": 9
        }
      ]
    },
    {
      "cell_type": "markdown",
      "source": [
        "### Convert the 'is_verified' column to a numerical format"
      ],
      "metadata": {
        "id": "ad20QByiIFI8"
      }
    },
    {
      "cell_type": "code",
      "source": [
        "df['is_verified'] = df['is_verified'].apply(lambda x: 1 if x==True else 0)\n",
        "df['is_verified'].head()"
      ],
      "metadata": {
        "id": "f4jYWWyUIOZx",
        "colab": {
          "base_uri": "https://localhost:8080/",
          "height": 241
        },
        "outputId": "c17f6a3d-8ae9-4fe1-c759-d77eecbf1fd5"
      },
      "execution_count": null,
      "outputs": [
        {
          "output_type": "execute_result",
          "data": {
            "text/plain": [
              "0    1\n",
              "1    1\n",
              "2    1\n",
              "3    1\n",
              "4    1\n",
              "Name: is_verified, dtype: int64"
            ],
            "text/html": [
              "<div>\n",
              "<style scoped>\n",
              "    .dataframe tbody tr th:only-of-type {\n",
              "        vertical-align: middle;\n",
              "    }\n",
              "\n",
              "    .dataframe tbody tr th {\n",
              "        vertical-align: top;\n",
              "    }\n",
              "\n",
              "    .dataframe thead th {\n",
              "        text-align: right;\n",
              "    }\n",
              "</style>\n",
              "<table border=\"1\" class=\"dataframe\">\n",
              "  <thead>\n",
              "    <tr style=\"text-align: right;\">\n",
              "      <th></th>\n",
              "      <th>is_verified</th>\n",
              "    </tr>\n",
              "  </thead>\n",
              "  <tbody>\n",
              "    <tr>\n",
              "      <th>0</th>\n",
              "      <td>1</td>\n",
              "    </tr>\n",
              "    <tr>\n",
              "      <th>1</th>\n",
              "      <td>1</td>\n",
              "    </tr>\n",
              "    <tr>\n",
              "      <th>2</th>\n",
              "      <td>1</td>\n",
              "    </tr>\n",
              "    <tr>\n",
              "      <th>3</th>\n",
              "      <td>1</td>\n",
              "    </tr>\n",
              "    <tr>\n",
              "      <th>4</th>\n",
              "      <td>1</td>\n",
              "    </tr>\n",
              "  </tbody>\n",
              "</table>\n",
              "</div><br><label><b>dtype:</b> int64</label>"
            ]
          },
          "metadata": {},
          "execution_count": 10
        }
      ]
    },
    {
      "cell_type": "code",
      "source": [
        "# Ensure the column is int\n",
        "df.dtypes"
      ],
      "metadata": {
        "id": "uMtO90opIWE4",
        "colab": {
          "base_uri": "https://localhost:8080/",
          "height": 398
        },
        "outputId": "31084ae6-40bb-41be-9d8a-42e06b3f46ef"
      },
      "execution_count": null,
      "outputs": [
        {
          "output_type": "execute_result",
          "data": {
            "text/plain": [
              "product_id                    object\n",
              "title                         object\n",
              "author                        object\n",
              "rating                         int64\n",
              "content                       object\n",
              "timestamp             datetime64[ns]\n",
              "profile_id                    object\n",
              "is_verified                    int64\n",
              "helpful_count                  int64\n",
              "product_attributes            object\n",
              "dtype: object"
            ],
            "text/html": [
              "<div>\n",
              "<style scoped>\n",
              "    .dataframe tbody tr th:only-of-type {\n",
              "        vertical-align: middle;\n",
              "    }\n",
              "\n",
              "    .dataframe tbody tr th {\n",
              "        vertical-align: top;\n",
              "    }\n",
              "\n",
              "    .dataframe thead th {\n",
              "        text-align: right;\n",
              "    }\n",
              "</style>\n",
              "<table border=\"1\" class=\"dataframe\">\n",
              "  <thead>\n",
              "    <tr style=\"text-align: right;\">\n",
              "      <th></th>\n",
              "      <th>0</th>\n",
              "    </tr>\n",
              "  </thead>\n",
              "  <tbody>\n",
              "    <tr>\n",
              "      <th>product_id</th>\n",
              "      <td>object</td>\n",
              "    </tr>\n",
              "    <tr>\n",
              "      <th>title</th>\n",
              "      <td>object</td>\n",
              "    </tr>\n",
              "    <tr>\n",
              "      <th>author</th>\n",
              "      <td>object</td>\n",
              "    </tr>\n",
              "    <tr>\n",
              "      <th>rating</th>\n",
              "      <td>int64</td>\n",
              "    </tr>\n",
              "    <tr>\n",
              "      <th>content</th>\n",
              "      <td>object</td>\n",
              "    </tr>\n",
              "    <tr>\n",
              "      <th>timestamp</th>\n",
              "      <td>datetime64[ns]</td>\n",
              "    </tr>\n",
              "    <tr>\n",
              "      <th>profile_id</th>\n",
              "      <td>object</td>\n",
              "    </tr>\n",
              "    <tr>\n",
              "      <th>is_verified</th>\n",
              "      <td>int64</td>\n",
              "    </tr>\n",
              "    <tr>\n",
              "      <th>helpful_count</th>\n",
              "      <td>int64</td>\n",
              "    </tr>\n",
              "    <tr>\n",
              "      <th>product_attributes</th>\n",
              "      <td>object</td>\n",
              "    </tr>\n",
              "  </tbody>\n",
              "</table>\n",
              "</div><br><label><b>dtype:</b> object</label>"
            ]
          },
          "metadata": {},
          "execution_count": 11
        }
      ]
    },
    {
      "cell_type": "code",
      "source": [
        "# Get a summary of the dataset to confirm the cleaning process\n",
        "df.info()"
      ],
      "metadata": {
        "id": "r7lXuE00I3h8",
        "colab": {
          "base_uri": "https://localhost:8080/"
        },
        "outputId": "de7357ac-066d-421b-b20e-fe9675e9a1d8"
      },
      "execution_count": null,
      "outputs": [
        {
          "output_type": "stream",
          "name": "stdout",
          "text": [
            "<class 'pandas.core.frame.DataFrame'>\n",
            "RangeIndex: 1000 entries, 0 to 999\n",
            "Data columns (total 10 columns):\n",
            " #   Column              Non-Null Count  Dtype         \n",
            "---  ------              --------------  -----         \n",
            " 0   product_id          1000 non-null   object        \n",
            " 1   title               1000 non-null   object        \n",
            " 2   author              1000 non-null   object        \n",
            " 3   rating              1000 non-null   int64         \n",
            " 4   content             1000 non-null   object        \n",
            " 5   timestamp           1000 non-null   datetime64[ns]\n",
            " 6   profile_id          1000 non-null   object        \n",
            " 7   is_verified         1000 non-null   int64         \n",
            " 8   helpful_count       1000 non-null   int64         \n",
            " 9   product_attributes  1000 non-null   object        \n",
            "dtypes: datetime64[ns](1), int64(3), object(6)\n",
            "memory usage: 78.2+ KB\n"
          ]
        }
      ]
    },
    {
      "cell_type": "markdown",
      "source": [
        "### Clean the 'title' column by removing the \"out of 5 stars\" part from the string"
      ],
      "metadata": {
        "id": "b-7Yjx9lIlhU"
      }
    },
    {
      "cell_type": "code",
      "source": [
        "def extract(title):\n",
        "  words = title.split(\"out of 5 stars\")\n",
        "  title_split = words[-1]\n",
        "  title_extract = ''.join(title_split)\n",
        "  return title_extract\n",
        "\n",
        "df['title'] = df['title'].apply(extract)\n",
        "\n",
        "# Preview the cleaned data\n",
        "df.head(10)"
      ],
      "metadata": {
        "id": "SPec_kr_InDp",
        "colab": {
          "base_uri": "https://localhost:8080/",
          "height": 537
        },
        "outputId": "7c46dec6-e48c-45b0-a57d-0873c60ca298"
      },
      "execution_count": null,
      "outputs": [
        {
          "output_type": "execute_result",
          "data": {
            "text/plain": [
              "   product_id                                           title  \\\n",
              "0  B085296FLT                               Great headphones!   \n",
              "1  B085296FLT                         Great quality and price   \n",
              "2  B085296FLT                              LONG battery life.   \n",
              "3  B085296FLT                                     SUPER cool!   \n",
              "4  B085296FLT                               Great Headphones!   \n",
              "5  B085296FLT   Great headphones, just don't fit my big ears.   \n",
              "6  B085296FLT                                     Works great   \n",
              "7  B085296FLT                              amazing headphones   \n",
              "8  B085296FLT                      Please Read Before Buying.   \n",
              "9  B085296FLT                            Great Sound Quality!   \n",
              "\n",
              "                  author  rating  \\\n",
              "0         Talia Calazans       5   \n",
              "1                  SethB       5   \n",
              "2                 Julian       5   \n",
              "3                   Rich       5   \n",
              "4        Leosha Williams       5   \n",
              "5                  Jacob       4   \n",
              "6            Max Rundell       5   \n",
              "7                    N/a       5   \n",
              "8  O.Winnie Mittelberger       2   \n",
              "9                Anthony       5   \n",
              "\n",
              "                                             content  timestamp  \\\n",
              "0  I love these headphones, and I wear them all t... 2024-06-01   \n",
              "1  I got these because my old pair finally broke ... 2024-07-18   \n",
              "2  I recently invested in the Beats Studio3 Wirel... 2024-03-03   \n",
              "3  Super good audio, charges fast and has a long ... 2024-07-21   \n",
              "4  These headphones are absolutely amazing! The v... 2024-06-01   \n",
              "5  Jan 2023 - First, I am not an audiophile. So, ... 2023-01-23   \n",
              "6  They are sleek and great value for the money y... 2024-06-18   \n",
              "7  great headphones, often have very significant ... 2024-06-21   \n",
              "8  My rating falls close to a 1.5 for multiple re... 2022-12-29   \n",
              "9  I originally wanted to get the AirPods Max, bu... 2024-08-02   \n",
              "\n",
              "                     profile_id  is_verified  helpful_count  \\\n",
              "0  AG6TODKB7VQYDH7KJ2MKHF6RQEGA            1              7   \n",
              "1  AFCW3Q2AD5H4JEZUZN753EL5D6QA            1              1   \n",
              "2  AHUVU5TLJQFQMZKFR7YKDB55USPA            1             22   \n",
              "3  AEKO4ZKYO5HYOL7NTE6YSFPHCDBA            1              0   \n",
              "4  AFBT2YGFVT6CBITOKGANUEJ5WYHA            1             17   \n",
              "5  AH3SC2BAKM6AA7XJMTJ4KAET6MSQ            1             93   \n",
              "6  AGONEWJIIDADSFNMIJQESOKWVG3A            1              1   \n",
              "7  AGVMWTJXVGQBYWLPQAHT3YPKMC2Q            1              2   \n",
              "8  AH46ZHN22ZKGHWOM3UMMORBATP2Q            1            928   \n",
              "9  AGKRRTECJOZGUNLJU2QJJRNRYNAA            1              0   \n",
              "\n",
              "                  product_attributes  \n",
              "0     Color: Shadow GraySet: Studio3  \n",
              "1     Color: Shadow GraySet: Studio3  \n",
              "2  Color: Midnight BlackSet: Studio3  \n",
              "3           Color: WhiteSet: Studio3  \n",
              "4     Color: Shadow GraySet: Studio3  \n",
              "5     Color: Matte BlackSet: Studio3  \n",
              "6     Color: Matte BlackSet: Studio3  \n",
              "7     Color: Matte BlackSet: Studio3  \n",
              "8     Color: Matte BlackSet: Studio3  \n",
              "9           Color: WhiteSet: Studio3  "
            ],
            "text/html": [
              "\n",
              "  <div id=\"df-e0186a9d-5ddb-472f-8ddf-29cf704abb3a\" class=\"colab-df-container\">\n",
              "    <div>\n",
              "<style scoped>\n",
              "    .dataframe tbody tr th:only-of-type {\n",
              "        vertical-align: middle;\n",
              "    }\n",
              "\n",
              "    .dataframe tbody tr th {\n",
              "        vertical-align: top;\n",
              "    }\n",
              "\n",
              "    .dataframe thead th {\n",
              "        text-align: right;\n",
              "    }\n",
              "</style>\n",
              "<table border=\"1\" class=\"dataframe\">\n",
              "  <thead>\n",
              "    <tr style=\"text-align: right;\">\n",
              "      <th></th>\n",
              "      <th>product_id</th>\n",
              "      <th>title</th>\n",
              "      <th>author</th>\n",
              "      <th>rating</th>\n",
              "      <th>content</th>\n",
              "      <th>timestamp</th>\n",
              "      <th>profile_id</th>\n",
              "      <th>is_verified</th>\n",
              "      <th>helpful_count</th>\n",
              "      <th>product_attributes</th>\n",
              "    </tr>\n",
              "  </thead>\n",
              "  <tbody>\n",
              "    <tr>\n",
              "      <th>0</th>\n",
              "      <td>B085296FLT</td>\n",
              "      <td>Great headphones!</td>\n",
              "      <td>Talia Calazans</td>\n",
              "      <td>5</td>\n",
              "      <td>I love these headphones, and I wear them all t...</td>\n",
              "      <td>2024-06-01</td>\n",
              "      <td>AG6TODKB7VQYDH7KJ2MKHF6RQEGA</td>\n",
              "      <td>1</td>\n",
              "      <td>7</td>\n",
              "      <td>Color: Shadow GraySet: Studio3</td>\n",
              "    </tr>\n",
              "    <tr>\n",
              "      <th>1</th>\n",
              "      <td>B085296FLT</td>\n",
              "      <td>Great quality and price</td>\n",
              "      <td>SethB</td>\n",
              "      <td>5</td>\n",
              "      <td>I got these because my old pair finally broke ...</td>\n",
              "      <td>2024-07-18</td>\n",
              "      <td>AFCW3Q2AD5H4JEZUZN753EL5D6QA</td>\n",
              "      <td>1</td>\n",
              "      <td>1</td>\n",
              "      <td>Color: Shadow GraySet: Studio3</td>\n",
              "    </tr>\n",
              "    <tr>\n",
              "      <th>2</th>\n",
              "      <td>B085296FLT</td>\n",
              "      <td>LONG battery life.</td>\n",
              "      <td>Julian</td>\n",
              "      <td>5</td>\n",
              "      <td>I recently invested in the Beats Studio3 Wirel...</td>\n",
              "      <td>2024-03-03</td>\n",
              "      <td>AHUVU5TLJQFQMZKFR7YKDB55USPA</td>\n",
              "      <td>1</td>\n",
              "      <td>22</td>\n",
              "      <td>Color: Midnight BlackSet: Studio3</td>\n",
              "    </tr>\n",
              "    <tr>\n",
              "      <th>3</th>\n",
              "      <td>B085296FLT</td>\n",
              "      <td>SUPER cool!</td>\n",
              "      <td>Rich</td>\n",
              "      <td>5</td>\n",
              "      <td>Super good audio, charges fast and has a long ...</td>\n",
              "      <td>2024-07-21</td>\n",
              "      <td>AEKO4ZKYO5HYOL7NTE6YSFPHCDBA</td>\n",
              "      <td>1</td>\n",
              "      <td>0</td>\n",
              "      <td>Color: WhiteSet: Studio3</td>\n",
              "    </tr>\n",
              "    <tr>\n",
              "      <th>4</th>\n",
              "      <td>B085296FLT</td>\n",
              "      <td>Great Headphones!</td>\n",
              "      <td>Leosha Williams</td>\n",
              "      <td>5</td>\n",
              "      <td>These headphones are absolutely amazing! The v...</td>\n",
              "      <td>2024-06-01</td>\n",
              "      <td>AFBT2YGFVT6CBITOKGANUEJ5WYHA</td>\n",
              "      <td>1</td>\n",
              "      <td>17</td>\n",
              "      <td>Color: Shadow GraySet: Studio3</td>\n",
              "    </tr>\n",
              "    <tr>\n",
              "      <th>5</th>\n",
              "      <td>B085296FLT</td>\n",
              "      <td>Great headphones, just don't fit my big ears.</td>\n",
              "      <td>Jacob</td>\n",
              "      <td>4</td>\n",
              "      <td>Jan 2023 - First, I am not an audiophile. So, ...</td>\n",
              "      <td>2023-01-23</td>\n",
              "      <td>AH3SC2BAKM6AA7XJMTJ4KAET6MSQ</td>\n",
              "      <td>1</td>\n",
              "      <td>93</td>\n",
              "      <td>Color: Matte BlackSet: Studio3</td>\n",
              "    </tr>\n",
              "    <tr>\n",
              "      <th>6</th>\n",
              "      <td>B085296FLT</td>\n",
              "      <td>Works great</td>\n",
              "      <td>Max Rundell</td>\n",
              "      <td>5</td>\n",
              "      <td>They are sleek and great value for the money y...</td>\n",
              "      <td>2024-06-18</td>\n",
              "      <td>AGONEWJIIDADSFNMIJQESOKWVG3A</td>\n",
              "      <td>1</td>\n",
              "      <td>1</td>\n",
              "      <td>Color: Matte BlackSet: Studio3</td>\n",
              "    </tr>\n",
              "    <tr>\n",
              "      <th>7</th>\n",
              "      <td>B085296FLT</td>\n",
              "      <td>amazing headphones</td>\n",
              "      <td>N/a</td>\n",
              "      <td>5</td>\n",
              "      <td>great headphones, often have very significant ...</td>\n",
              "      <td>2024-06-21</td>\n",
              "      <td>AGVMWTJXVGQBYWLPQAHT3YPKMC2Q</td>\n",
              "      <td>1</td>\n",
              "      <td>2</td>\n",
              "      <td>Color: Matte BlackSet: Studio3</td>\n",
              "    </tr>\n",
              "    <tr>\n",
              "      <th>8</th>\n",
              "      <td>B085296FLT</td>\n",
              "      <td>Please Read Before Buying.</td>\n",
              "      <td>O.Winnie Mittelberger</td>\n",
              "      <td>2</td>\n",
              "      <td>My rating falls close to a 1.5 for multiple re...</td>\n",
              "      <td>2022-12-29</td>\n",
              "      <td>AH46ZHN22ZKGHWOM3UMMORBATP2Q</td>\n",
              "      <td>1</td>\n",
              "      <td>928</td>\n",
              "      <td>Color: Matte BlackSet: Studio3</td>\n",
              "    </tr>\n",
              "    <tr>\n",
              "      <th>9</th>\n",
              "      <td>B085296FLT</td>\n",
              "      <td>Great Sound Quality!</td>\n",
              "      <td>Anthony</td>\n",
              "      <td>5</td>\n",
              "      <td>I originally wanted to get the AirPods Max, bu...</td>\n",
              "      <td>2024-08-02</td>\n",
              "      <td>AGKRRTECJOZGUNLJU2QJJRNRYNAA</td>\n",
              "      <td>1</td>\n",
              "      <td>0</td>\n",
              "      <td>Color: WhiteSet: Studio3</td>\n",
              "    </tr>\n",
              "  </tbody>\n",
              "</table>\n",
              "</div>\n",
              "    <div class=\"colab-df-buttons\">\n",
              "\n",
              "  <div class=\"colab-df-container\">\n",
              "    <button class=\"colab-df-convert\" onclick=\"convertToInteractive('df-e0186a9d-5ddb-472f-8ddf-29cf704abb3a')\"\n",
              "            title=\"Convert this dataframe to an interactive table.\"\n",
              "            style=\"display:none;\">\n",
              "\n",
              "  <svg xmlns=\"http://www.w3.org/2000/svg\" height=\"24px\" viewBox=\"0 -960 960 960\">\n",
              "    <path d=\"M120-120v-720h720v720H120Zm60-500h600v-160H180v160Zm220 220h160v-160H400v160Zm0 220h160v-160H400v160ZM180-400h160v-160H180v160Zm440 0h160v-160H620v160ZM180-180h160v-160H180v160Zm440 0h160v-160H620v160Z\"/>\n",
              "  </svg>\n",
              "    </button>\n",
              "\n",
              "  <style>\n",
              "    .colab-df-container {\n",
              "      display:flex;\n",
              "      gap: 12px;\n",
              "    }\n",
              "\n",
              "    .colab-df-convert {\n",
              "      background-color: #E8F0FE;\n",
              "      border: none;\n",
              "      border-radius: 50%;\n",
              "      cursor: pointer;\n",
              "      display: none;\n",
              "      fill: #1967D2;\n",
              "      height: 32px;\n",
              "      padding: 0 0 0 0;\n",
              "      width: 32px;\n",
              "    }\n",
              "\n",
              "    .colab-df-convert:hover {\n",
              "      background-color: #E2EBFA;\n",
              "      box-shadow: 0px 1px 2px rgba(60, 64, 67, 0.3), 0px 1px 3px 1px rgba(60, 64, 67, 0.15);\n",
              "      fill: #174EA6;\n",
              "    }\n",
              "\n",
              "    .colab-df-buttons div {\n",
              "      margin-bottom: 4px;\n",
              "    }\n",
              "\n",
              "    [theme=dark] .colab-df-convert {\n",
              "      background-color: #3B4455;\n",
              "      fill: #D2E3FC;\n",
              "    }\n",
              "\n",
              "    [theme=dark] .colab-df-convert:hover {\n",
              "      background-color: #434B5C;\n",
              "      box-shadow: 0px 1px 3px 1px rgba(0, 0, 0, 0.15);\n",
              "      filter: drop-shadow(0px 1px 2px rgba(0, 0, 0, 0.3));\n",
              "      fill: #FFFFFF;\n",
              "    }\n",
              "  </style>\n",
              "\n",
              "    <script>\n",
              "      const buttonEl =\n",
              "        document.querySelector('#df-e0186a9d-5ddb-472f-8ddf-29cf704abb3a button.colab-df-convert');\n",
              "      buttonEl.style.display =\n",
              "        google.colab.kernel.accessAllowed ? 'block' : 'none';\n",
              "\n",
              "      async function convertToInteractive(key) {\n",
              "        const element = document.querySelector('#df-e0186a9d-5ddb-472f-8ddf-29cf704abb3a');\n",
              "        const dataTable =\n",
              "          await google.colab.kernel.invokeFunction('convertToInteractive',\n",
              "                                                    [key], {});\n",
              "        if (!dataTable) return;\n",
              "\n",
              "        const docLinkHtml = 'Like what you see? Visit the ' +\n",
              "          '<a target=\"_blank\" href=https://colab.research.google.com/notebooks/data_table.ipynb>data table notebook</a>'\n",
              "          + ' to learn more about interactive tables.';\n",
              "        element.innerHTML = '';\n",
              "        dataTable['output_type'] = 'display_data';\n",
              "        await google.colab.output.renderOutput(dataTable, element);\n",
              "        const docLink = document.createElement('div');\n",
              "        docLink.innerHTML = docLinkHtml;\n",
              "        element.appendChild(docLink);\n",
              "      }\n",
              "    </script>\n",
              "  </div>\n",
              "\n",
              "\n",
              "<div id=\"df-10bb2eed-f764-4438-a499-2268b73eb251\">\n",
              "  <button class=\"colab-df-quickchart\" onclick=\"quickchart('df-10bb2eed-f764-4438-a499-2268b73eb251')\"\n",
              "            title=\"Suggest charts\"\n",
              "            style=\"display:none;\">\n",
              "\n",
              "<svg xmlns=\"http://www.w3.org/2000/svg\" height=\"24px\"viewBox=\"0 0 24 24\"\n",
              "     width=\"24px\">\n",
              "    <g>\n",
              "        <path d=\"M19 3H5c-1.1 0-2 .9-2 2v14c0 1.1.9 2 2 2h14c1.1 0 2-.9 2-2V5c0-1.1-.9-2-2-2zM9 17H7v-7h2v7zm4 0h-2V7h2v10zm4 0h-2v-4h2v4z\"/>\n",
              "    </g>\n",
              "</svg>\n",
              "  </button>\n",
              "\n",
              "<style>\n",
              "  .colab-df-quickchart {\n",
              "      --bg-color: #E8F0FE;\n",
              "      --fill-color: #1967D2;\n",
              "      --hover-bg-color: #E2EBFA;\n",
              "      --hover-fill-color: #174EA6;\n",
              "      --disabled-fill-color: #AAA;\n",
              "      --disabled-bg-color: #DDD;\n",
              "  }\n",
              "\n",
              "  [theme=dark] .colab-df-quickchart {\n",
              "      --bg-color: #3B4455;\n",
              "      --fill-color: #D2E3FC;\n",
              "      --hover-bg-color: #434B5C;\n",
              "      --hover-fill-color: #FFFFFF;\n",
              "      --disabled-bg-color: #3B4455;\n",
              "      --disabled-fill-color: #666;\n",
              "  }\n",
              "\n",
              "  .colab-df-quickchart {\n",
              "    background-color: var(--bg-color);\n",
              "    border: none;\n",
              "    border-radius: 50%;\n",
              "    cursor: pointer;\n",
              "    display: none;\n",
              "    fill: var(--fill-color);\n",
              "    height: 32px;\n",
              "    padding: 0;\n",
              "    width: 32px;\n",
              "  }\n",
              "\n",
              "  .colab-df-quickchart:hover {\n",
              "    background-color: var(--hover-bg-color);\n",
              "    box-shadow: 0 1px 2px rgba(60, 64, 67, 0.3), 0 1px 3px 1px rgba(60, 64, 67, 0.15);\n",
              "    fill: var(--button-hover-fill-color);\n",
              "  }\n",
              "\n",
              "  .colab-df-quickchart-complete:disabled,\n",
              "  .colab-df-quickchart-complete:disabled:hover {\n",
              "    background-color: var(--disabled-bg-color);\n",
              "    fill: var(--disabled-fill-color);\n",
              "    box-shadow: none;\n",
              "  }\n",
              "\n",
              "  .colab-df-spinner {\n",
              "    border: 2px solid var(--fill-color);\n",
              "    border-color: transparent;\n",
              "    border-bottom-color: var(--fill-color);\n",
              "    animation:\n",
              "      spin 1s steps(1) infinite;\n",
              "  }\n",
              "\n",
              "  @keyframes spin {\n",
              "    0% {\n",
              "      border-color: transparent;\n",
              "      border-bottom-color: var(--fill-color);\n",
              "      border-left-color: var(--fill-color);\n",
              "    }\n",
              "    20% {\n",
              "      border-color: transparent;\n",
              "      border-left-color: var(--fill-color);\n",
              "      border-top-color: var(--fill-color);\n",
              "    }\n",
              "    30% {\n",
              "      border-color: transparent;\n",
              "      border-left-color: var(--fill-color);\n",
              "      border-top-color: var(--fill-color);\n",
              "      border-right-color: var(--fill-color);\n",
              "    }\n",
              "    40% {\n",
              "      border-color: transparent;\n",
              "      border-right-color: var(--fill-color);\n",
              "      border-top-color: var(--fill-color);\n",
              "    }\n",
              "    60% {\n",
              "      border-color: transparent;\n",
              "      border-right-color: var(--fill-color);\n",
              "    }\n",
              "    80% {\n",
              "      border-color: transparent;\n",
              "      border-right-color: var(--fill-color);\n",
              "      border-bottom-color: var(--fill-color);\n",
              "    }\n",
              "    90% {\n",
              "      border-color: transparent;\n",
              "      border-bottom-color: var(--fill-color);\n",
              "    }\n",
              "  }\n",
              "</style>\n",
              "\n",
              "  <script>\n",
              "    async function quickchart(key) {\n",
              "      const quickchartButtonEl =\n",
              "        document.querySelector('#' + key + ' button');\n",
              "      quickchartButtonEl.disabled = true;  // To prevent multiple clicks.\n",
              "      quickchartButtonEl.classList.add('colab-df-spinner');\n",
              "      try {\n",
              "        const charts = await google.colab.kernel.invokeFunction(\n",
              "            'suggestCharts', [key], {});\n",
              "      } catch (error) {\n",
              "        console.error('Error during call to suggestCharts:', error);\n",
              "      }\n",
              "      quickchartButtonEl.classList.remove('colab-df-spinner');\n",
              "      quickchartButtonEl.classList.add('colab-df-quickchart-complete');\n",
              "    }\n",
              "    (() => {\n",
              "      let quickchartButtonEl =\n",
              "        document.querySelector('#df-10bb2eed-f764-4438-a499-2268b73eb251 button');\n",
              "      quickchartButtonEl.style.display =\n",
              "        google.colab.kernel.accessAllowed ? 'block' : 'none';\n",
              "    })();\n",
              "  </script>\n",
              "</div>\n",
              "\n",
              "    </div>\n",
              "  </div>\n"
            ],
            "application/vnd.google.colaboratory.intrinsic+json": {
              "type": "dataframe",
              "variable_name": "df",
              "summary": "{\n  \"name\": \"df\",\n  \"rows\": 1000,\n  \"fields\": [\n    {\n      \"column\": \"product_id\",\n      \"properties\": {\n        \"dtype\": \"category\",\n        \"num_unique_values\": 10,\n        \"samples\": [\n          \"B0CCZ1SQ8G\",\n          \"B09XS7JWHH\",\n          \"B08WR6YDKP\"\n        ],\n        \"semantic_type\": \"\",\n        \"description\": \"\"\n      }\n    },\n    {\n      \"column\": \"title\",\n      \"properties\": {\n        \"dtype\": \"string\",\n        \"num_unique_values\": 911,\n        \"samples\": [\n          \" Bien\",\n          \" Great for air Travel\",\n          \" Excellent product, would buy again\"\n        ],\n        \"semantic_type\": \"\",\n        \"description\": \"\"\n      }\n    },\n    {\n      \"column\": \"author\",\n      \"properties\": {\n        \"dtype\": \"string\",\n        \"num_unique_values\": 923,\n        \"samples\": [\n          \"Phillip\",\n          \"Andrew Kratz\",\n          \"Terysa\"\n        ],\n        \"semantic_type\": \"\",\n        \"description\": \"\"\n      }\n    },\n    {\n      \"column\": \"rating\",\n      \"properties\": {\n        \"dtype\": \"number\",\n        \"std\": 0,\n        \"min\": 1,\n        \"max\": 5,\n        \"num_unique_values\": 5,\n        \"samples\": [\n          4,\n          1,\n          2\n        ],\n        \"semantic_type\": \"\",\n        \"description\": \"\"\n      }\n    },\n    {\n      \"column\": \"content\",\n      \"properties\": {\n        \"dtype\": \"string\",\n        \"num_unique_values\": 1000,\n        \"samples\": [\n          \"if i\\u2019m being honest, i\\u2019ve had better headphones, and the only reason i got these was due to my dog chewing my other ones, but everything considered, (the price) they are pretty solid. the noise cancellation isn\\u2019t perfect but does the job when you\\u2019re trying to avoid people. the only problem i\\u2019ve found with these is that the ear covers are small, and anyone with decent size ears is gonna be pissed. but other than that, they do this cool thing where the music will pause when u take one off. i really just wish the ear muffs were bigger, because it\\u2019s pissing me off tbh. the bass is GREAT. and it sounds good asf. anyways, get uhm if u don\\u2019t have that many funds. but honestly if you have wiggle room, go for airpods, or bose headphones. they are just better in my opinion. anyways have a good one.\",\n          \"This are very comfortable. I have bought several cheaper brands that were really uncomfortable these are not. I like that the app works well. It sounds great and connects effortlessly. It also has a long battery life. I wish I would have bought these soon.\",\n          \"Got these as a grad gift for my sister and we tested them out. The padding is SO comfy and the noise cancelling is great!\"\n        ],\n        \"semantic_type\": \"\",\n        \"description\": \"\"\n      }\n    },\n    {\n      \"column\": \"timestamp\",\n      \"properties\": {\n        \"dtype\": \"date\",\n        \"min\": \"2018-01-11 00:00:00\",\n        \"max\": \"2024-08-11 00:00:00\",\n        \"num_unique_values\": 372,\n        \"samples\": [\n          \"2020-09-01 00:00:00\",\n          \"2024-07-17 00:00:00\",\n          \"2024-07-24 00:00:00\"\n        ],\n        \"semantic_type\": \"\",\n        \"description\": \"\"\n      }\n    },\n    {\n      \"column\": \"profile_id\",\n      \"properties\": {\n        \"dtype\": \"string\",\n        \"num_unique_values\": 997,\n        \"samples\": [\n          \"AHF4PGGEILX4T2CZENORXNXGJXNA\",\n          \"AFIGEBJFVEIKAN2BRR6NP3TGX2JQ\",\n          \"AFZMD6OAZU4QLJ5246VK63NCBQYQ\"\n        ],\n        \"semantic_type\": \"\",\n        \"description\": \"\"\n      }\n    },\n    {\n      \"column\": \"is_verified\",\n      \"properties\": {\n        \"dtype\": \"number\",\n        \"std\": 0,\n        \"min\": 1,\n        \"max\": 1,\n        \"num_unique_values\": 1,\n        \"samples\": [\n          1\n        ],\n        \"semantic_type\": \"\",\n        \"description\": \"\"\n      }\n    },\n    {\n      \"column\": \"helpful_count\",\n      \"properties\": {\n        \"dtype\": \"number\",\n        \"std\": 66,\n        \"min\": 0,\n        \"max\": 1394,\n        \"num_unique_values\": 73,\n        \"samples\": [\n          17\n        ],\n        \"semantic_type\": \"\",\n        \"description\": \"\"\n      }\n    },\n    {\n      \"column\": \"product_attributes\",\n      \"properties\": {\n        \"dtype\": \"category\",\n        \"num_unique_values\": 33,\n        \"samples\": [\n          \"Color: Cypress Green\"\n        ],\n        \"semantic_type\": \"\",\n        \"description\": \"\"\n      }\n    }\n  ]\n}"
            }
          },
          "metadata": {},
          "execution_count": 13
        }
      ]
    },
    {
      "cell_type": "markdown",
      "source": [
        "### Observations:\n",
        "\n",
        "\n",
        "\n",
        "*   There were some missing values in the 'product_attributes' and 'author' columns, which were handled by replacing them with 'Unknown' to avoid dropping any records.\n",
        "* The 'timestamp' column was initially in a string format, requiring extraction and conversion to a datetime format for time-based analysis.\n",
        "* The 'is_verified' column was converted from a boolean to a numerical format to use in statistical analysis.\n",
        "* The 'title' column had unnecessary text (\"out of 5 stars\"), which was removed to focus on the actual content of the review titles.\n",
        "\n"
      ],
      "metadata": {
        "id": "JytzLShUJC1i"
      }
    },
    {
      "cell_type": "markdown",
      "source": [
        "## 5. Exploratory Data Analysis (EDA)\n",
        "\n",
        "### 5.1 Data Overview\n",
        "\n"
      ],
      "metadata": {
        "id": "7LQuEuuKgHJc"
      }
    },
    {
      "cell_type": "markdown",
      "source": [
        "### Descriptive statistics for the 'rating' column"
      ],
      "metadata": {
        "id": "2Gi60B1HKZ53"
      }
    },
    {
      "cell_type": "code",
      "source": [
        "df['rating'].describe()"
      ],
      "metadata": {
        "id": "HXTgzclLgLFb",
        "colab": {
          "base_uri": "https://localhost:8080/",
          "height": 335
        },
        "outputId": "1294b7be-dced-4dd1-932b-6d17e0013afd"
      },
      "execution_count": null,
      "outputs": [
        {
          "output_type": "execute_result",
          "data": {
            "text/plain": [
              "count    1000.000000\n",
              "mean        4.438000\n",
              "std         0.805484\n",
              "min         1.000000\n",
              "25%         4.000000\n",
              "50%         5.000000\n",
              "75%         5.000000\n",
              "max         5.000000\n",
              "Name: rating, dtype: float64"
            ],
            "text/html": [
              "<div>\n",
              "<style scoped>\n",
              "    .dataframe tbody tr th:only-of-type {\n",
              "        vertical-align: middle;\n",
              "    }\n",
              "\n",
              "    .dataframe tbody tr th {\n",
              "        vertical-align: top;\n",
              "    }\n",
              "\n",
              "    .dataframe thead th {\n",
              "        text-align: right;\n",
              "    }\n",
              "</style>\n",
              "<table border=\"1\" class=\"dataframe\">\n",
              "  <thead>\n",
              "    <tr style=\"text-align: right;\">\n",
              "      <th></th>\n",
              "      <th>rating</th>\n",
              "    </tr>\n",
              "  </thead>\n",
              "  <tbody>\n",
              "    <tr>\n",
              "      <th>count</th>\n",
              "      <td>1000.000000</td>\n",
              "    </tr>\n",
              "    <tr>\n",
              "      <th>mean</th>\n",
              "      <td>4.438000</td>\n",
              "    </tr>\n",
              "    <tr>\n",
              "      <th>std</th>\n",
              "      <td>0.805484</td>\n",
              "    </tr>\n",
              "    <tr>\n",
              "      <th>min</th>\n",
              "      <td>1.000000</td>\n",
              "    </tr>\n",
              "    <tr>\n",
              "      <th>25%</th>\n",
              "      <td>4.000000</td>\n",
              "    </tr>\n",
              "    <tr>\n",
              "      <th>50%</th>\n",
              "      <td>5.000000</td>\n",
              "    </tr>\n",
              "    <tr>\n",
              "      <th>75%</th>\n",
              "      <td>5.000000</td>\n",
              "    </tr>\n",
              "    <tr>\n",
              "      <th>max</th>\n",
              "      <td>5.000000</td>\n",
              "    </tr>\n",
              "  </tbody>\n",
              "</table>\n",
              "</div><br><label><b>dtype:</b> float64</label>"
            ]
          },
          "metadata": {},
          "execution_count": 14
        }
      ]
    },
    {
      "cell_type": "code",
      "source": [
        "# Calculate the variance of the 'rating' column to understand the variability\n",
        "df['rating'].var()"
      ],
      "metadata": {
        "id": "pDd4mFzVKOLm",
        "colab": {
          "base_uri": "https://localhost:8080/"
        },
        "outputId": "4a6df154-a0ef-4a33-b484-33aa7084bc81"
      },
      "execution_count": null,
      "outputs": [
        {
          "output_type": "execute_result",
          "data": {
            "text/plain": [
              "0.6488048048048047"
            ]
          },
          "metadata": {},
          "execution_count": 15
        }
      ]
    },
    {
      "cell_type": "code",
      "source": [
        "# Identify the most frequently occurring rating (mode)\n",
        "df['rating'].mode()[0]"
      ],
      "metadata": {
        "id": "Hnm0cydVKQY8",
        "colab": {
          "base_uri": "https://localhost:8080/"
        },
        "outputId": "0fc9c243-8da5-4d7c-ca3d-10cddce1cc08"
      },
      "execution_count": null,
      "outputs": [
        {
          "output_type": "execute_result",
          "data": {
            "text/plain": [
              "5"
            ]
          },
          "metadata": {},
          "execution_count": 16
        }
      ]
    },
    {
      "cell_type": "markdown",
      "source": [
        "### Descriptive statistics for the 'helpful_count' column\n"
      ],
      "metadata": {
        "id": "znQvEvuLKelc"
      }
    },
    {
      "cell_type": "code",
      "source": [
        "df['helpful_count'].describe()"
      ],
      "metadata": {
        "id": "PCJak4NRKW-x",
        "colab": {
          "base_uri": "https://localhost:8080/",
          "height": 335
        },
        "outputId": "51438144-3fbc-4fd2-9e3e-33156c9ea726"
      },
      "execution_count": null,
      "outputs": [
        {
          "output_type": "execute_result",
          "data": {
            "text/plain": [
              "count    1000.000000\n",
              "mean        9.992000\n",
              "std        66.423671\n",
              "min         0.000000\n",
              "25%         0.000000\n",
              "50%         0.000000\n",
              "75%         1.000000\n",
              "max      1394.000000\n",
              "Name: helpful_count, dtype: float64"
            ],
            "text/html": [
              "<div>\n",
              "<style scoped>\n",
              "    .dataframe tbody tr th:only-of-type {\n",
              "        vertical-align: middle;\n",
              "    }\n",
              "\n",
              "    .dataframe tbody tr th {\n",
              "        vertical-align: top;\n",
              "    }\n",
              "\n",
              "    .dataframe thead th {\n",
              "        text-align: right;\n",
              "    }\n",
              "</style>\n",
              "<table border=\"1\" class=\"dataframe\">\n",
              "  <thead>\n",
              "    <tr style=\"text-align: right;\">\n",
              "      <th></th>\n",
              "      <th>helpful_count</th>\n",
              "    </tr>\n",
              "  </thead>\n",
              "  <tbody>\n",
              "    <tr>\n",
              "      <th>count</th>\n",
              "      <td>1000.000000</td>\n",
              "    </tr>\n",
              "    <tr>\n",
              "      <th>mean</th>\n",
              "      <td>9.992000</td>\n",
              "    </tr>\n",
              "    <tr>\n",
              "      <th>std</th>\n",
              "      <td>66.423671</td>\n",
              "    </tr>\n",
              "    <tr>\n",
              "      <th>min</th>\n",
              "      <td>0.000000</td>\n",
              "    </tr>\n",
              "    <tr>\n",
              "      <th>25%</th>\n",
              "      <td>0.000000</td>\n",
              "    </tr>\n",
              "    <tr>\n",
              "      <th>50%</th>\n",
              "      <td>0.000000</td>\n",
              "    </tr>\n",
              "    <tr>\n",
              "      <th>75%</th>\n",
              "      <td>1.000000</td>\n",
              "    </tr>\n",
              "    <tr>\n",
              "      <th>max</th>\n",
              "      <td>1394.000000</td>\n",
              "    </tr>\n",
              "  </tbody>\n",
              "</table>\n",
              "</div><br><label><b>dtype:</b> float64</label>"
            ]
          },
          "metadata": {},
          "execution_count": 17
        }
      ]
    },
    {
      "cell_type": "code",
      "source": [
        "# Calculate the variance of the 'helpful_count' column\n",
        "df['helpful_count'].var()"
      ],
      "metadata": {
        "id": "wt2e6LK-Knpw",
        "colab": {
          "base_uri": "https://localhost:8080/"
        },
        "outputId": "4c2d9b77-15d7-40c8-b15a-9d1b0b51b7ed"
      },
      "execution_count": null,
      "outputs": [
        {
          "output_type": "execute_result",
          "data": {
            "text/plain": [
              "4412.10404004004"
            ]
          },
          "metadata": {},
          "execution_count": 18
        }
      ]
    },
    {
      "cell_type": "code",
      "source": [
        "df['helpful_count'].mode()[0]"
      ],
      "metadata": {
        "id": "ClQeONqAKt1J",
        "colab": {
          "base_uri": "https://localhost:8080/"
        },
        "outputId": "b72cc9a0-30d8-48ea-f4f2-67952fbad19d"
      },
      "execution_count": null,
      "outputs": [
        {
          "output_type": "execute_result",
          "data": {
            "text/plain": [
              "0"
            ]
          },
          "metadata": {},
          "execution_count": 19
        }
      ]
    },
    {
      "cell_type": "markdown",
      "source": [
        "### Variance of ratings for the Beats by Dre headphone"
      ],
      "metadata": {
        "id": "O8r0MxkqK03J"
      }
    },
    {
      "cell_type": "code",
      "source": [
        "beats_df = df[df['product_id'] == 'B085296FLT']\n",
        "beats_df['rating'].var()"
      ],
      "metadata": {
        "id": "LR4HCqOgK5WQ",
        "colab": {
          "base_uri": "https://localhost:8080/"
        },
        "outputId": "a64b12f4-7444-4554-8d33-32a44b1c70bf"
      },
      "execution_count": null,
      "outputs": [
        {
          "output_type": "execute_result",
          "data": {
            "text/plain": [
              "0.2096969696969696"
            ]
          },
          "metadata": {},
          "execution_count": 20
        }
      ]
    },
    {
      "cell_type": "markdown",
      "source": [
        "### Identify Outliers in the 'rating' column"
      ],
      "metadata": {
        "id": "SiCqN-kGLCI7"
      }
    },
    {
      "cell_type": "code",
      "source": [
        "# Calculate the first quartile (Q1) and third quartile (Q3)\n",
        "Q1 = df['rating'].quantile(0.25)\n",
        "Q3 = df['rating'].quantile(0.75)\n",
        "IQR = Q3 - Q1 # Calculate the Interquartile Range (IQR)\n",
        "\n",
        "# Define the lower and upper bounds for identifying outliers\n",
        "lower_bound = Q1 - 1.5 * IQR\n",
        "upper_bound = Q3 + 1.5 * IQR\n",
        "\n",
        "print(\"lower bound: \", lower_bound)\n",
        "print(\"upper_bound: \", upper_bound)\n",
        "\n",
        "outliers = []\n",
        "for i in df['rating']:\n",
        "  if i < lower_bound or i > upper_bound:\n",
        "    outliers.append(i)\n",
        "\n",
        "print(\"Outliers: \", sorted(outliers))"
      ],
      "metadata": {
        "id": "BgTcXUwYLE3c",
        "colab": {
          "base_uri": "https://localhost:8080/"
        },
        "outputId": "ccfe7eee-5139-461f-f3d6-8b7f07fc014c"
      },
      "execution_count": null,
      "outputs": [
        {
          "output_type": "stream",
          "name": "stdout",
          "text": [
            "lower bound:  2.5\n",
            "upper_bound:  6.5\n",
            "Outliers:  [1, 1, 1, 1, 1, 1, 2, 2, 2, 2, 2, 2, 2, 2, 2, 2, 2, 2, 2, 2, 2, 2, 2, 2, 2, 2, 2, 2, 2, 2, 2, 2]\n"
          ]
        }
      ]
    },
    {
      "cell_type": "markdown",
      "source": [
        "### 5.2 Visualizations\n"
      ],
      "metadata": {
        "id": "sV0UqGEFgLeB"
      }
    },
    {
      "cell_type": "markdown",
      "source": [
        "### Histogram of the ratings for all the products"
      ],
      "metadata": {
        "id": "HA7ZwyzYLzE5"
      }
    },
    {
      "cell_type": "code",
      "source": [
        "sns.set(style=\"dark\")\n",
        "sns.histplot(df['rating'], bins=5, color='teal', alpha=0.8)\n",
        "plt.xlabel('Rating')\n",
        "plt.ylabel('Frequency')\n",
        "plt.title('Histogram of Ratings')\n",
        "plt.figure(figsize=(8,6))\n",
        "plt.show()"
      ],
      "metadata": {
        "id": "YBuvgi_igOIz",
        "colab": {
          "base_uri": "https://localhost:8080/",
          "height": 497
        },
        "outputId": "4dec2f2a-9826-4b54-959d-be641d4d8670"
      },
      "execution_count": null,
      "outputs": [
        {
          "output_type": "display_data",
          "data": {
            "text/plain": [
              "<Figure size 640x480 with 1 Axes>"
            ],
            "image/png": "[encoded data removed]"
          },
          "metadata": {}
        },
        {
          "output_type": "display_data",
          "data": {
            "text/plain": [
              "<Figure size 800x600 with 0 Axes>"
            ]
          },
          "metadata": {}
        }
      ]
    },
    {
      "cell_type": "markdown",
      "source": [
        "Most ratings are clustered around 4.5 and 5.0 which suggests that majority of customers were satisfied with the products"
      ],
      "metadata": {
        "id": "e5WcIqGSL8tD"
      }
    },
    {
      "cell_type": "markdown",
      "source": [
        "### Boxplot of Ratings by Product"
      ],
      "metadata": {
        "id": "oHqFTyBMMQXj"
      }
    },
    {
      "cell_type": "code",
      "source": [
        "# Create a new column called \"product_name\" and map product_id to product_name\n",
        "\n",
        "product_map = {\n",
        "    'B085296FLT' : 'Beats Studio3',\n",
        "    'B09XS7JWHH' : 'Sony WH-1000XM5',\n",
        "    'B08HDBZNZ9' : 'INFURTURE H1',\n",
        "    'B0CGTL9GFD' : 'Edifier WH700NB',\n",
        "    'B095BV8R27' : 'MOVSSOU E7',\n",
        "    'B08WR6YDKP' : 'JBL Live 460NC',\n",
        "    'B083W7V3RG' : 'SENNHEISER HD 450BT',\n",
        "    'B0CQXMXJC5' : 'soundcore by Anker Q20i',\n",
        "    'B0CCZ1SQ8G' : 'Bose QuietComfort',\n",
        "    'B0BKPRTRXK' : 'RUNOLIM'\n",
        "}\n",
        "\n",
        "df['product_name'] = df['product_id'].map(product_map)"
      ],
      "metadata": {
        "id": "vVy4kKSsMXAh"
      },
      "execution_count": null,
      "outputs": []
    },
    {
      "cell_type": "code",
      "source": [
        "sns.set(style='dark')\n",
        "plt.figure(figsize=(8,6))\n",
        "sns.boxplot(data=df, x = 'product_name', y = 'rating', hue = 'product_name', palette='Set3')\n",
        "plt.title('Boxplot of Ratings by Product ID')\n",
        "plt.xlabel('Product Name')\n",
        "plt.ylabel('Rating')\n",
        "plt.xticks(rotation=90)\n",
        "plt.show()"
      ],
      "metadata": {
        "id": "XYX1LPqxMa3E",
        "colab": {
          "base_uri": "https://localhost:8080/",
          "height": 750
        },
        "outputId": "0b4acc61-2c7b-48b5-a79d-c1c0612ebdcf"
      },
      "execution_count": null,
      "outputs": [
        {
          "output_type": "display_data",
          "data": {
            "text/plain": [
              "<Figure size 800x600 with 1 Axes>"
            ],
            "image/png": "[encoded data removed]"
          },
          "metadata": {}
        }
      ]
    },
    {
      "cell_type": "markdown",
      "source": [
        "\n",
        "* The Beats Studio3 boxplot is quite narrow and centered around high ratings, indicating that most customers rate this product favorably with little variation in their satisfaction levels\n",
        "* Unlike some other products, RUNOLIM does not have many outliers, suggesting that there are very few instances of extreme dissatisfaction"
      ],
      "metadata": {
        "id": "7hNqedSXMeHN"
      }
    },
    {
      "cell_type": "markdown",
      "source": [
        "### Scatterplot between helpful count and ratings"
      ],
      "metadata": {
        "id": "p_1rzjNRQE9Q"
      }
    },
    {
      "cell_type": "code",
      "source": [
        "sns.set(style='darkgrid')\n",
        "sns.scatterplot(data=df, x='helpful_count', y='rating', hue = 'rating')\n",
        "plt.title('Scatter Plot of Helpful Count vs. Rating')\n",
        "plt.xlabel('Helpful Count')\n",
        "plt.ylabel('Rating')\n",
        "plt.show()"
      ],
      "metadata": {
        "id": "8jQCiRhDQGsI",
        "colab": {
          "base_uri": "https://localhost:8080/",
          "height": 480
        },
        "outputId": "b280c837-8a73-41b9-89fd-88bb103f41c3"
      },
      "execution_count": null,
      "outputs": [
        {
          "output_type": "display_data",
          "data": {
            "text/plain": [
              "<Figure size 640x480 with 1 Axes>"
            ],
            "image/png": "[encoded data removed]"
          },
          "metadata": {}
        }
      ]
    },
    {
      "cell_type": "markdown",
      "source": [
        "The plot suggests that the number of helpful votes a review receives doesn't strongly depend on the rating it gives. There are a few outliers where a review with a high helpful_count has a lower or moderate rating. This should be considered as it represents critical reviews by the consumers that could help the company improve their products."
      ],
      "metadata": {
        "id": "xVN039DSRTE2"
      }
    },
    {
      "cell_type": "markdown",
      "source": [
        "### Heatmap of average ratings by product and time"
      ],
      "metadata": {
        "id": "54XjdlHH8_-o"
      }
    },
    {
      "cell_type": "code",
      "source": [
        "df['year_month'] = df['timestamp'].dt.to_period('M')\n",
        "df_pt = df.pivot_table(values='rating', index='product_name', columns='year_month', aggfunc='mean')\n",
        "df.drop('year_month', axis=1, inplace=True)\n",
        "\n",
        "rows = df_pt.shape[0]\n",
        "cols = df_pt.shape[1]\n",
        "\n",
        "plt.figure(figsize=(cols * .5, rows *.5))\n",
        "sns.set(style='dark')\n",
        "\n",
        "sns.heatmap(df_pt, annot = True, annot_kws = {\"size\": 9, \"weight\": \"bold\"}, cmap=\"YlGnBu\", fmt=\".1f\", linewidths=.5)\n",
        "plt.title('Heatmap of Avg Ratings by Product and Time')\n",
        "plt.xlabel('Year-Month')\n",
        "plt.ylabel('Product Name')\n",
        "plt.show()"
      ],
      "metadata": {
        "id": "YcbuBB-u9EKB",
        "colab": {
          "base_uri": "https://localhost:8080/",
          "height": 326
        },
        "outputId": "c28d265a-830e-47d9-b757-358e8d95f12e"
      },
      "execution_count": null,
      "outputs": [
        {
          "output_type": "display_data",
          "data": {
            "text/plain": [
              "<Figure size 3400x500 with 2 Axes>"
            ],
            "image/png": "[encoded data removed]"
          },
          "metadata": {}
        }
      ]
    },
    {
      "cell_type": "markdown",
      "source": [
        "This heatmap provides a clear overview of how customer satisfaction varies over time for each product. While most products maintain high average ratings, certain products like SENNHEISER HD 450BT and JBL Live 460NC show more variability which highlights areas where customer satisfaction may need to be addressed. The data for Beats Studio3 is not as consistent or frequent as other products, but the ratings are overwhelmingly positive."
      ],
      "metadata": {
        "id": "0SjCQ5HK9GTP"
      }
    },
    {
      "cell_type": "markdown",
      "source": [
        "### Correlation matrix of rating and helpful_count"
      ],
      "metadata": {
        "id": "1nhnc23S47d8"
      }
    },
    {
      "cell_type": "code",
      "source": [
        "df_cm = df.loc[:, ['rating', 'helpful_count']].corr()\n",
        "plt.figure(figsize=(8,6))\n",
        "sns.set(style='dark')\n",
        "sns.heatmap(df_cm, annot = True, annot_kws = {\"weight\": \"bold\"}, fmt=\".2f\", cmap='coolwarm', square = True)\n",
        "plt.title('Correlation Matrix')\n",
        "plt.show()"
      ],
      "metadata": {
        "id": "z-o8RVfK4_3I",
        "colab": {
          "base_uri": "https://localhost:8080/",
          "height": 550
        },
        "outputId": "c47e99a0-4fe2-4736-d039-8309f3647644"
      },
      "execution_count": null,
      "outputs": [
        {
          "output_type": "display_data",
          "data": {
            "text/plain": [
              "<Figure size 800x600 with 2 Axes>"
            ],
            "image/png": "[encoded data removed]"
          },
          "metadata": {}
        }
      ]
    },
    {
      "cell_type": "markdown",
      "source": [
        "There is no correlation between rating and helpful_count. This suggests that whether a review is rated highly or poorly does not significantly impact how helpful other users find it."
      ],
      "metadata": {
        "id": "ZZYdc5Ao5YP-"
      }
    },
    {
      "cell_type": "markdown",
      "source": [
        "### 5.3 Descriptive Statistics"
      ],
      "metadata": {
        "id": "MPeXScFFgOuZ"
      }
    },
    {
      "cell_type": "markdown",
      "source": [
        "The variance for the ratings of the products is 0.6488 with the mean being 4.438 suggesting that while most of the consumers are likely to rate the products highly, there is some variability that indicates there are customers who experienced disatisfaction with the products. The variance for Beats by Dre is 0.2096969696969696 which is lower than the general variance suggesting better customer satisfaction. It would be helpful for Beats by Dre to investigate on the outliers from the ratings to help focus on minor improvements."
      ],
      "metadata": {
        "id": "9ySAKEjOBWvP"
      }
    },
    {
      "cell_type": "markdown",
      "source": [
        "## 6. Sentiment Analysis\n",
        "\n",
        "### 6.1 Methodology"
      ],
      "metadata": {
        "id": "-iMv0E-wgRcc"
      }
    },
    {
      "cell_type": "code",
      "source": [
        "# Sentiment Analysis using TextBlob to analyze consumer sentiment for each of the 10 products\n",
        "\n",
        "def analyze_text(text):\n",
        "  blob = TextBlob(text)\n",
        "  if blob.sentiment.polarity > 0:\n",
        "    return 'Positive'\n",
        "  elif blob.sentiment.polarity < 0:\n",
        "    return 'Negative'\n",
        "  else:\n",
        "    return 'Neutral'\n",
        "\n",
        "df['sentiment'] = df['content'].apply(analyze_text)\n",
        "\n",
        "consumer_sentiments = df.groupby('product_name')['sentiment'].value_counts()\n",
        "\n",
        "consumer_sentiments"
      ],
      "metadata": {
        "id": "ok6I-XW1-_VW",
        "colab": {
          "base_uri": "https://localhost:8080/",
          "height": 1000
        },
        "outputId": "9a34ed9c-2a7a-44b9-cc47-4ef47f47d976"
      },
      "execution_count": null,
      "outputs": [
        {
          "output_type": "execute_result",
          "data": {
            "text/plain": [
              "product_name             sentiment\n",
              "Beats Studio3            Positive     82\n",
              "                         Neutral      15\n",
              "                         Negative      3\n",
              "Bose QuietComfort        Positive     99\n",
              "                         Negative      1\n",
              "Edifier WH700NB          Positive     93\n",
              "                         Neutral       5\n",
              "                         Negative      2\n",
              "INFURTURE H1             Positive     93\n",
              "                         Negative      5\n",
              "                         Neutral       2\n",
              "JBL Live 460NC           Positive     86\n",
              "                         Neutral       8\n",
              "                         Negative      6\n",
              "MOVSSOU E7               Positive     91\n",
              "                         Neutral       6\n",
              "                         Negative      3\n",
              "RUNOLIM                  Positive     92\n",
              "                         Negative      4\n",
              "                         Neutral       4\n",
              "SENNHEISER HD 450BT      Positive     85\n",
              "                         Negative     10\n",
              "                         Neutral       5\n",
              "Sony WH-1000XM5          Positive     95\n",
              "                         Negative      3\n",
              "                         Neutral       2\n",
              "soundcore by Anker Q20i  Positive     97\n",
              "                         Negative      2\n",
              "                         Neutral       1\n",
              "Name: count, dtype: int64"
            ],
            "text/html": [
              "<div>\n",
              "<style scoped>\n",
              "    .dataframe tbody tr th:only-of-type {\n",
              "        vertical-align: middle;\n",
              "    }\n",
              "\n",
              "    .dataframe tbody tr th {\n",
              "        vertical-align: top;\n",
              "    }\n",
              "\n",
              "    .dataframe thead th {\n",
              "        text-align: right;\n",
              "    }\n",
              "</style>\n",
              "<table border=\"1\" class=\"dataframe\">\n",
              "  <thead>\n",
              "    <tr style=\"text-align: right;\">\n",
              "      <th></th>\n",
              "      <th></th>\n",
              "      <th>count</th>\n",
              "    </tr>\n",
              "    <tr>\n",
              "      <th>product_name</th>\n",
              "      <th>sentiment</th>\n",
              "      <th></th>\n",
              "    </tr>\n",
              "  </thead>\n",
              "  <tbody>\n",
              "    <tr>\n",
              "      <th rowspan=\"3\" valign=\"top\">Beats Studio3</th>\n",
              "      <th>Positive</th>\n",
              "      <td>82</td>\n",
              "    </tr>\n",
              "    <tr>\n",
              "      <th>Neutral</th>\n",
              "      <td>15</td>\n",
              "    </tr>\n",
              "    <tr>\n",
              "      <th>Negative</th>\n",
              "      <td>3</td>\n",
              "    </tr>\n",
              "    <tr>\n",
              "      <th rowspan=\"2\" valign=\"top\">Bose QuietComfort</th>\n",
              "      <th>Positive</th>\n",
              "      <td>99</td>\n",
              "    </tr>\n",
              "    <tr>\n",
              "      <th>Negative</th>\n",
              "      <td>1</td>\n",
              "    </tr>\n",
              "    <tr>\n",
              "      <th rowspan=\"3\" valign=\"top\">Edifier WH700NB</th>\n",
              "      <th>Positive</th>\n",
              "      <td>93</td>\n",
              "    </tr>\n",
              "    <tr>\n",
              "      <th>Neutral</th>\n",
              "      <td>5</td>\n",
              "    </tr>\n",
              "    <tr>\n",
              "      <th>Negative</th>\n",
              "      <td>2</td>\n",
              "    </tr>\n",
              "    <tr>\n",
              "      <th rowspan=\"3\" valign=\"top\">INFURTURE H1</th>\n",
              "      <th>Positive</th>\n",
              "      <td>93</td>\n",
              "    </tr>\n",
              "    <tr>\n",
              "      <th>Negative</th>\n",
              "      <td>5</td>\n",
              "    </tr>\n",
              "    <tr>\n",
              "      <th>Neutral</th>\n",
              "      <td>2</td>\n",
              "    </tr>\n",
              "    <tr>\n",
              "      <th rowspan=\"3\" valign=\"top\">JBL Live 460NC</th>\n",
              "      <th>Positive</th>\n",
              "      <td>86</td>\n",
              "    </tr>\n",
              "    <tr>\n",
              "      <th>Neutral</th>\n",
              "      <td>8</td>\n",
              "    </tr>\n",
              "    <tr>\n",
              "      <th>Negative</th>\n",
              "      <td>6</td>\n",
              "    </tr>\n",
              "    <tr>\n",
              "      <th rowspan=\"3\" valign=\"top\">MOVSSOU E7</th>\n",
              "      <th>Positive</th>\n",
              "      <td>91</td>\n",
              "    </tr>\n",
              "    <tr>\n",
              "      <th>Neutral</th>\n",
              "      <td>6</td>\n",
              "    </tr>\n",
              "    <tr>\n",
              "      <th>Negative</th>\n",
              "      <td>3</td>\n",
              "    </tr>\n",
              "    <tr>\n",
              "      <th rowspan=\"3\" valign=\"top\">RUNOLIM</th>\n",
              "      <th>Positive</th>\n",
              "      <td>92</td>\n",
              "    </tr>\n",
              "    <tr>\n",
              "      <th>Negative</th>\n",
              "      <td>4</td>\n",
              "    </tr>\n",
              "    <tr>\n",
              "      <th>Neutral</th>\n",
              "      <td>4</td>\n",
              "    </tr>\n",
              "    <tr>\n",
              "      <th rowspan=\"3\" valign=\"top\">SENNHEISER HD 450BT</th>\n",
              "      <th>Positive</th>\n",
              "      <td>85</td>\n",
              "    </tr>\n",
              "    <tr>\n",
              "      <th>Negative</th>\n",
              "      <td>10</td>\n",
              "    </tr>\n",
              "    <tr>\n",
              "      <th>Neutral</th>\n",
              "      <td>5</td>\n",
              "    </tr>\n",
              "    <tr>\n",
              "      <th rowspan=\"3\" valign=\"top\">Sony WH-1000XM5</th>\n",
              "      <th>Positive</th>\n",
              "      <td>95</td>\n",
              "    </tr>\n",
              "    <tr>\n",
              "      <th>Negative</th>\n",
              "      <td>3</td>\n",
              "    </tr>\n",
              "    <tr>\n",
              "      <th>Neutral</th>\n",
              "      <td>2</td>\n",
              "    </tr>\n",
              "    <tr>\n",
              "      <th rowspan=\"3\" valign=\"top\">soundcore by Anker Q20i</th>\n",
              "      <th>Positive</th>\n",
              "      <td>97</td>\n",
              "    </tr>\n",
              "    <tr>\n",
              "      <th>Negative</th>\n",
              "      <td>2</td>\n",
              "    </tr>\n",
              "    <tr>\n",
              "      <th>Neutral</th>\n",
              "      <td>1</td>\n",
              "    </tr>\n",
              "  </tbody>\n",
              "</table>\n",
              "</div><br><label><b>dtype:</b> int64</label>"
            ]
          },
          "metadata": {},
          "execution_count": 28
        }
      ]
    },
    {
      "cell_type": "code",
      "source": [
        "# Sentiment Analysis using TextBlob for overall consumer sentiment\n",
        "\n",
        "def analyze_text(text):\n",
        "  blob = TextBlob(text)\n",
        "  if blob.sentiment.polarity > 0:\n",
        "    return 'Positive'\n",
        "  elif blob.sentiment.polarity < 0:\n",
        "    return 'Negative'\n",
        "  else:\n",
        "    return 'Neutral'\n",
        "\n",
        "df['sentiment'] = df['content'].apply(analyze_text)\n",
        "\n",
        "consumer_sentiment = df['sentiment'].value_counts()\n",
        "\n",
        "consumer_sentiment"
      ],
      "metadata": {
        "id": "td42gqxbgnIO",
        "colab": {
          "base_uri": "https://localhost:8080/",
          "height": 210
        },
        "outputId": "c8346129-fe7f-44de-a7fe-53fefae91e95"
      },
      "execution_count": null,
      "outputs": [
        {
          "output_type": "execute_result",
          "data": {
            "text/plain": [
              "sentiment\n",
              "Positive    913\n",
              "Neutral      48\n",
              "Negative     39\n",
              "Name: count, dtype: int64"
            ],
            "text/html": [
              "<div>\n",
              "<style scoped>\n",
              "    .dataframe tbody tr th:only-of-type {\n",
              "        vertical-align: middle;\n",
              "    }\n",
              "\n",
              "    .dataframe tbody tr th {\n",
              "        vertical-align: top;\n",
              "    }\n",
              "\n",
              "    .dataframe thead th {\n",
              "        text-align: right;\n",
              "    }\n",
              "</style>\n",
              "<table border=\"1\" class=\"dataframe\">\n",
              "  <thead>\n",
              "    <tr style=\"text-align: right;\">\n",
              "      <th></th>\n",
              "      <th>count</th>\n",
              "    </tr>\n",
              "    <tr>\n",
              "      <th>sentiment</th>\n",
              "      <th></th>\n",
              "    </tr>\n",
              "  </thead>\n",
              "  <tbody>\n",
              "    <tr>\n",
              "      <th>Positive</th>\n",
              "      <td>913</td>\n",
              "    </tr>\n",
              "    <tr>\n",
              "      <th>Neutral</th>\n",
              "      <td>48</td>\n",
              "    </tr>\n",
              "    <tr>\n",
              "      <th>Negative</th>\n",
              "      <td>39</td>\n",
              "    </tr>\n",
              "  </tbody>\n",
              "</table>\n",
              "</div><br><label><b>dtype:</b> int64</label>"
            ]
          },
          "metadata": {},
          "execution_count": 29
        }
      ]
    },
    {
      "cell_type": "markdown",
      "source": [
        "For this project, I used TextBlob for sentiment analysis and the overall consumer sentiment across all products, including Beats by Dre, is predominantly positive which suggests that most customers were satisfied with their purchases. For every 1 negative review, there are approximately 23 positive reviews."
      ],
      "metadata": {
        "id": "F3NEYC1mc9qy"
      }
    },
    {
      "cell_type": "markdown",
      "source": [
        "### 6.2 Results\n"
      ],
      "metadata": {
        "id": "0DBNIEkXgkQl"
      }
    },
    {
      "cell_type": "code",
      "source": [
        "# Visualize the overall consumer sentiment distribution with a pie chart\n",
        "consumer_sentiment.plot(kind='pie', autopct='%1.f%%', colors=['limegreen', 'orange', 'red'], figsize=(6,6), shadow=True, wedgeprops={'edgecolor': 'black'}, startangle=90)\n",
        "plt.title('Overall Consumer Sentiment Distribution', fontsize = 20)\n",
        "plt.ylabel('')\n",
        "plt.show()"
      ],
      "metadata": {
        "id": "g5LIyoWyetal",
        "colab": {
          "base_uri": "https://localhost:8080/",
          "height": 529
        },
        "outputId": "1933c34f-5044-413f-a0d5-51c50acc671a"
      },
      "execution_count": null,
      "outputs": [
        {
          "output_type": "display_data",
          "data": {
            "text/plain": [
              "<Figure size 600x600 with 1 Axes>"
            ],
            "image/png": "[encoded data removed]"
          },
          "metadata": {}
        }
      ]
    },
    {
      "cell_type": "markdown",
      "source": [
        "While the majority of positive consumer reviews for Beats by Dre was 82 out of 100, it also had a moderate neutral sentiment suggesting that some customers felt that it did not quite exceed their expectations, but it was still able to provide them with a satisfactory experience by meeting their needs. There may be room for improvement to increase positive sentiment while also addressing the issues from the ones who had a negative sentiment regarding the product."
      ],
      "metadata": {
        "id": "BdamIFyDxkV6"
      }
    },
    {
      "cell_type": "markdown",
      "source": [
        "## 7. AI-Generated Insights\n",
        "\n",
        "### 7.1 Using Gemini AI"
      ],
      "metadata": {
        "id": "DNwZT81EgnZx"
      }
    },
    {
      "cell_type": "markdown",
      "source": [
        "Gemini AI was utilized to extract deeper insights from consumer reviews and provide a nuanced understanding of customer feedback, helping to identify key themes, sentiment, and comparisons with competing products. The function analyze_reviews() was created to send a subset of reviews along with a prompt to Gemini AI, which then returned a text response based on the input data."
      ],
      "metadata": {
        "id": "fNIwCtszATL4"
      }
    },
    {
      "cell_type": "code",
      "source": [
        "api_key = \"YOUR_API_KEY\"\n",
        "\n",
        "# Function to analyze reviews using Gemini AI\n",
        "def analyze_reviews(reviews, api_key,prompt_message):\n",
        "    genai.configure(api_key=api_key)\n",
        "\n",
        "    model = genai.GenerativeModel(\n",
        "        model_name=\"gemini-1.5-flash\",\n",
        "        generation_config={\n",
        "            \"temperature\": 1,\n",
        "            \"top_p\": 0.95,\n",
        "            \"top_k\": 64,\n",
        "            \"max_output_tokens\": 8192,\n",
        "            \"response_mime_type\": \"text/plain\",\n",
        "        },\n",
        "    )\n",
        "\n",
        "    chat_session = model.start_chat(history=[])\n",
        "\n",
        "    prompt = prompt_message + \"\\n\\n\".join(reviews)\n",
        "    response = chat_session.send_message(prompt)\n",
        "    return response.text"
      ],
      "metadata": {
        "id": "c7FOv7m_gttl"
      },
      "execution_count": null,
      "outputs": []
    },
    {
      "cell_type": "markdown",
      "source": [
        "### 7.2 Key Insights\n",
        "\n"
      ],
      "metadata": {
        "id": "Ytb0BYEqgpfB"
      }
    },
    {
      "cell_type": "code",
      "source": [
        "# Select a subset of reviews\n",
        "\n",
        "reviews_column_name = 'content'\n",
        "reviews = df[reviews_column_name].head(100).tolist()\n",
        "\n",
        "# Prompt 1\n",
        "prompt_message = \"What are the most frequently mentioned keywords in the reviews? are they positive or negative?:\"\n",
        "insights = analyze_reviews(reviews, api_key, prompt_message)\n",
        "print(insights)"
      ],
      "metadata": {
        "id": "qiHC7YZigtVP",
        "colab": {
          "base_uri": "https://localhost:8080/",
          "height": 506
        },
        "outputId": "187c9bb7-536e-4b53-db1d-a7f83458b6e5"
      },
      "execution_count": null,
      "outputs": [
        {
          "output_type": "stream",
          "name": "stdout",
          "text": [
            "Here's a breakdown of the most frequently mentioned keywords in the reviews and whether they have a positive or negative connotation:\n",
            "\n",
            "**Positive Keywords:**\n",
            "\n",
            "* **Sound:**  \"Great sound,\" \"amazing sound,\" \"good sound,\" \"sound quality,\" \"phenomenal sound,\" \"crisp sound,\" \"powerful lows,\" \"well-balanced audio\" -  These all indicate positive impressions of the headphone's audio quality.\n",
            "* **Noise Cancellation:**  \"Noise canceling,\" \"noise cancellation,\" \"ANC,\" \"blocks out noise,\" \"cancel out external noises,\" \"good noise cancellation\" - These phrases highlight the effectiveness of the noise-canceling feature, which is a key selling point for many users.\n",
            "* **Comfort:** \"Comfortable,\" \"snug fit,\" \"soft cushions,\" \"lightweight,\" \"no ear pain,\" \"no discomfort\" -  Comfort is consistently praised, suggesting a pleasant listening experience, even for extended periods.\n",
            "* **Battery Life:** \"Battery life,\" \"long battery life,\" \"good battery life,\" \"long charge,\" \"charges fast\" -  Users are happy with the battery performance, suggesting it meets their needs for prolonged use.\n",
            "* **Connectivity:** \"Easy to connect,\" \"seamless pairing,\" \"easy to use,\" \"Bluetooth connectivity\" -  The headphones are praised for their smooth connection to devices.\n",
            "* **Style:** \"Sleek,\" \"stylish,\" \"great look,\" \"love the color,\" \"beautiful\" -  The headphones' aesthetic appeal is often mentioned.\n",
            "* **Durability:** \"Durable,\" \"solid build,\" \"good quality,\" \"long lasting\" -  Some users comment on the build quality and how well the headphones hold up over time.\n",
            "\n",
            "**Negative Keywords:**\n",
            "\n",
            "* **Noise Cancellation (Negative):** \"Not great noise cancellation,\" \"ANC is horrible,\" \"does not cancel all noise,\" \"cannot hear when talking\" -  While the noise cancellation is often praised, some reviewers find it lacking, especially in certain environments.\n",
            "* **Bass:** \"Bass is a little disappointing,\" \"not enough bass,\" \"bass heavy,\" \"not as much bass as I expected\" - The bass response is a mixed bag, with some users finding it a bit underwhelming.\n",
            "* **Fit:** \"Tight,\" \"too big,\" \"bulky,\" \"small earcups,\" \"gets caught in hair\" - While generally comfortable, some find the fit a bit too tight or have issues with the size or design.\n",
            "* **Build Quality:** \"Cheap material,\" \"cheap feel,\" \"poorly designed,\" \"easily broken,\" \"broke after two years\" -  A few reviewers express concerns about build quality and durability.\n",
            "* **Price:** \"Not worth the full price,\" \"too expensive,\" \"expensive for what you get\" -  The price is a concern for some, particularly when not purchased on sale.\n",
            "* **Micro USB:** \"Micro USB charging,\" \"old charging port\" -  The use of Micro USB instead of USB-C is a drawback for some users.\n",
            "\n",
            "**Overall Sentiment:**\n",
            "\n",
            "Overall, the reviews are largely positive, with the sound, noise cancellation, comfort, and battery life being the most highly praised aspects. However, some users have criticisms regarding the noise cancellation effectiveness, bass response, fit, build quality, and price, especially at full retail.  \n",
            "\n",
            "Keep in mind that individual experiences can vary, and the perceived value of the headphones may depend on factors like price point, individual preferences, and specific use cases. \n",
            "\n"
          ]
        }
      ]
    },
    {
      "cell_type": "markdown",
      "source": [
        "Gemini AI identified frequent positive keywords such as \"sound,\" \"quality,\" \"comfort,\" \"battery,\" and \"value.\" Customers often praised the audio quality, comfort, and long battery life of Beats Studio3. Negative feedback focused on issues like \"noise cancellation,\" \"fit,\" and \"build quality.\" Some users reported that the noise cancellation wasn't as effective as they hoped, and a few had concerns about the durability of the product."
      ],
      "metadata": {
        "id": "LP_dvCE4BCeU"
      }
    },
    {
      "cell_type": "code",
      "source": [
        "# Prompt 2\n",
        "reviews_column_name = 'content'\n",
        "reviews = df[reviews_column_name].head(100).tolist()\n",
        "\n",
        "# Send prompts\n",
        "prompt_message = \"Based on the reviews, did the customers compare this product to another? what were their sentiments?:\"\n",
        "insights = analyze_reviews(reviews, api_key, prompt_message)\n",
        "print(insights)"
      ],
      "metadata": {
        "id": "5MtrP6yhBTKl",
        "colab": {
          "base_uri": "https://localhost:8080/",
          "height": 315
        },
        "outputId": "8de78d81-429c-4db8-f44c-9f82ad55066e"
      },
      "execution_count": null,
      "outputs": [
        {
          "output_type": "stream",
          "name": "stdout",
          "text": [
            "The reviews compared the Beats Studio 3 Wireless Noise Cancelling Headphones to the following:\n",
            "\n",
            "* **Sony XM4 and XM5:** Customers found the Sony headphones to be superior in sound quality, noise cancellation, and build quality, especially at the $350 price point.\n",
            "* **AirPods Max:** Some customers considered the AirPods Max as an alternative, but many felt that the Beats Studio 3 were a good option due to the release of a new generation of AirPods Max.\n",
            "* **Solo 3:** Some customers compared the Studio 3 to the Solo 3, noting that the Studio 3 had superior noise cancellation and comfort.\n",
            "* **Bose:** A few customers found the Beats Studio 3 to be comparable to Bose headphones in terms of sound quality.\n",
            "* **Other Over-Ear Headphones:** Some customers mentioned comparing the Beats Studio 3 to other over-ear headphones in the $350 price range, with varying opinions on their performance.\n",
            "\n",
            "**Sentiments:**\n",
            "\n",
            "* **Positive:** Many customers praised the Beats Studio 3 for their sound quality, comfort, battery life, and integration with Apple devices. They appreciated the noise cancellation, even though it was not considered top-tier.\n",
            "* **Mixed:** Some customers were happy with the headphones at a discounted price but felt they were not worth the full retail price. They noted mixed opinions on the noise cancellation and build quality.\n",
            "* **Negative:**  A significant portion of customers expressed disappointment with the noise cancellation, finding it less effective than other headphones in the same price range. They also criticized the build quality, particularly the folding mechanism and earcup material.  Many felt that the headphones were overpriced for the features they offered. \n",
            "\n",
            "Overall, the sentiments were mixed. While many customers enjoyed the headphones for their sound quality and comfort, others felt that the noise cancellation and build quality were lacking, especially considering the price. The discounted price was a significant factor in many customers' positive reviews. \n",
            "\n"
          ]
        }
      ]
    },
    {
      "cell_type": "markdown",
      "source": [
        "Customers compared Beats Studio3 with other high-end headphones like AirPods Max and Sony XM4/XM5. The consensus was that while Beats Studio3 offers good value, especially when on sale, competitors like Sony were preferred for better noise cancellation and sound quality."
      ],
      "metadata": {
        "id": "ckt6a8W_BZPH"
      }
    },
    {
      "cell_type": "code",
      "source": [
        "# Prompt 3\n",
        "reviews_column_name = 'content'\n",
        "reviews = df[reviews_column_name].head(100).tolist()\n",
        "\n",
        "# Send prompts\n",
        "prompt_message = \"Based on the reviews, have any of the customers expressed their desire to purchase this product again?:\"\n",
        "insights = analyze_reviews(reviews, api_key, prompt_message)\n",
        "print(insights)"
      ],
      "metadata": {
        "id": "4XlbKJDDBsc7",
        "colab": {
          "base_uri": "https://localhost:8080/",
          "height": 297
        },
        "outputId": "cd9b3095-49ec-40b5-faf8-78d33e512a47"
      },
      "execution_count": null,
      "outputs": [
        {
          "output_type": "stream",
          "name": "stdout",
          "text": [
            "Based on the reviews, here's what we can glean about customer repeat purchases:\n",
            "\n",
            "* **Some customers express clear intention to repurchase:**  Multiple customers mention buying a second pair after their first pair lasted for years. \n",
            "    * \"This is my 2nd pair I still have the first (2 yrs at least)\"\n",
            "    * \"Got my first pair for a graduation gift back in 2011 and fell in love. Love these headphones.\"\n",
            "* **Some customers imply repurchase due to satisfaction:**  Many customers express strong satisfaction with the headphones, suggesting they'd likely consider buying them again. \n",
            "    * \"The sound quality on these is amazing gr8 bass\"\n",
            "    * \"Love the quality! Almost as good as my Bose\"\n",
            "    * \"These are the best investments ever, especially when you’re using public transportation and you need to block all the noise out while you enjoy your travel time\"\n",
            "* **Some customers are ambivalent about repurchase:**  Some customers highlight specific downsides (like build quality issues or noise cancellation not being as good as expected) which might influence their decision to buy again. \n",
            "    * \"They are sleek and great value for the money you spend. There are a lot of different headphones you can buy, but as far as over the ear headphones these are great. Very light, get a little discomfort after long use, but not bad at all. Sound is great quality especially for the gym which is my main use for these. Just be sure to wash the ear pads if you do this. Comes with an aux cord as well incase you need to hook them up differently than Bluetooth.\"\n",
            "    * \"These headphones were exactly what my customer was needing and wanting. The sound quality was very good and it allowed for them both to attach to an iPad so they could watch videos together with headphones on.\"\n",
            "\n",
            "**Overall, while not all customers explicitly state they'd repurchase, a significant portion of the reviews suggest a positive outlook on the product that makes repeat purchases likely.**\n",
            "\n"
          ]
        }
      ]
    },
    {
      "cell_type": "markdown",
      "source": [
        "The overall positive sentiment, particularly regarding sound quality and comfort, suggests that many customers might consider buying Beats Studio3 again, especially at a discounted price."
      ],
      "metadata": {
        "id": "VTb0rQn7B3YR"
      }
    },
    {
      "cell_type": "markdown",
      "source": [
        "### 7.3 Interpretation\n"
      ],
      "metadata": {
        "id": "Xnipe_rYgvQG"
      }
    },
    {
      "cell_type": "markdown",
      "source": [
        " The negative feedback regarding noise cancellation and build quality indicates potential areas where Beats could improve. Addressing these issues could help Beats better compete with products like Sony."
      ],
      "metadata": {
        "id": "vEyQN5djCQvJ"
      }
    },
    {
      "cell_type": "markdown",
      "source": [
        "## 8. Comparative Analysis\n",
        "\n",
        "### 8.1 Competitor Overview"
      ],
      "metadata": {
        "id": "GERtyCkwgxYw"
      }
    },
    {
      "cell_type": "markdown",
      "source": [
        "### Sony WH-1000XM5:\n",
        "The Sony WH-1000XM5 is positioned as a top-tier, premium wireless noise-canceling headphone, building on the success of its predecessors. Known for industry-leading noise cancellation, exceptional sound quality, and comfortable design, the XM5 targets audiophiles and frequent travelers. Despite its high price, it competes strongly in the market against brands like Bose and Sennheiser.\n",
        "\n",
        "### INFURTURE H1:\n",
        "The INFURTURE H1 Active Noise Cancelling Headphones is an exceptional budget-friendly option, offering good noise cancellation and impressive sound quality for under $60. This product provids an immersive listening experience, complemented by up to 40 hours of battery life. Although they may lack the premium features and midrange detail of more expensive models, the INFURTURE H1 stands out for its value, making it an excellent choice for those seeking effective noise isolation and solid performance without a high price tag.\n",
        "\n",
        "### Edifier WH700NB:\n",
        "The Edifier WH700NB is a budget-friendly, high-value option in the wireless headphone market with its exceptional battery life and active noise cancellation, making it a good choice for cost-conscious consumers who need reliable, long-lasting headphones. While it lacks some premium features found in higher-end models, the WH700NB competes by delivering solid performance and advanced features like Bluetooth 5.3 and 68 hours of battery life.\n",
        "\n",
        "### MOVSSOU E7:\n",
        "Featuring 45mm drivers that deliver deep bass, this headphone is well-suited for bass-heavy genres like hip-hop. It has a comfortable fit with a 30-hour battery life. While the charging time may be slower than some users prefer, the overall value and features makes it a strong contender for those seeking affordable wireless headphones under $50.\n",
        "\n",
        "### JBL Live 460NC:\n",
        "This headphone comes with a companion app that allows users to customize their sound with EQ and presets, making them versatile for different listening preferences. With a battery life of up to 30 hours and multi-device pairing, they are convenient for daily use. However, their ANC isn't as effective at reducing bass-heavy noises and some users might find the on-ear fit uncomfortable for extended periods.\n",
        "\n",
        "### Sennheiser HD 450BT:\n",
        "The Sennheiser HD 450BT headphone is a more affordable alternative to high-end models like the Sony WH-1000XM3. It's designed for commuters and travelers, offering solid noise cancellation, impressive sound quality, and long battery life. It also has an app which provides an equalizer, Podcast Mode and Firmware updates. While the build quality may feel less premium compared to pricier models, the HD 450BT delivers excellent audio performance with a well-balanced sound profile, making them a strong contender for those seeking high-quality wireless headphones without the hefty price tag.\n",
        "\n",
        "### soundcore by Anker Q20i:\n",
        "With active noise cancellation (ANC), a remarkable battery life of up to 60 hours, and solid sound quality, these headphones are an excellent choice for under $100. However, the build quality feels like plastic and the buttons may seem bulky. They also support customizable EQ settings via the Soundcore app, allowing users to fine-tune the audio to their liking.\n",
        "\n",
        "### Bose QuietComfort:\n",
        "They are ideal for commuting and traveling, effectively blocking out ambient noise like bus engines. This latest model introduces a bass-heavy sound profile and an in-line mic for wired calls, enhancing versatility. With over 26 hours of battery life, they provide long-lasting use, though not as extended as competitors like the Sony WH-1000XM4.\n",
        "\n",
        "### RUNOLIM Active Noise Cancelling Headphones:\n",
        "The RUNOLIM noise-canceling headphones are designed for those seeking advanced active noise cancellation (ANC) at an affordable price for below $60. The headphones offer impressive battery life, with up to 70 hours of playtime in standard mode and 45 hours with ANC activated. They also feature Hi-Fi audio and a built-in HD microphone. However, users have expressed issues with its bluetooth connection over time."
      ],
      "metadata": {
        "id": "TRGqCNcQJpyb"
      }
    },
    {
      "cell_type": "markdown",
      "source": [
        "### 8.2 Comparison of Sentiments\n"
      ],
      "metadata": {
        "id": "AGLyuZ8ggyf7"
      }
    },
    {
      "cell_type": "code",
      "source": [
        "# Convert the consumer_sentiments Series to a DataFrame\n",
        "consumer_sentiments_df = consumer_sentiments.unstack()\n",
        "consumer_sentiments_df.plot(kind='bar', stacked=True, figsize=(10, 7), color=['red', 'orange', 'limegreen'])\n",
        "\n",
        "sns.set(style='dark')\n",
        "plt.title('Sentiment Distribution by Product')\n",
        "plt.xlabel('Product Name')\n",
        "plt.ylabel('Number of Reviews')\n",
        "plt.xticks(rotation=90)\n",
        "plt.legend(title='Sentiments')\n",
        "plt.show()"
      ],
      "metadata": {
        "id": "8eAPHehbg5hR",
        "colab": {
          "base_uri": "https://localhost:8080/",
          "height": 827
        },
        "outputId": "a9417e85-d4bf-4270-d49c-dcaaec0c98b0"
      },
      "execution_count": null,
      "outputs": [
        {
          "output_type": "display_data",
          "data": {
            "text/plain": [
              "<Figure size 1000x700 with 1 Axes>"
            ],
            "image/png": "[encoded data removed]"
          },
          "metadata": {}
        }
      ]
    },
    {
      "cell_type": "markdown",
      "source": [
        "Beats Studio3's sentiment distribution is similar to that of Bose QuietComfort and Sony WH-1000XM5 with a high level of positive feedback and minimal negative sentiment, placing it in a favorable position among its competitors. However, RUNOLIM and Sennheiser HD 450BT have a slightly higher proportion of negative reviews, indicating some areas of customer dissatisfaction."
      ],
      "metadata": {
        "id": "sd5PUaLk-atY"
      }
    },
    {
      "cell_type": "markdown",
      "source": [
        "### 8.3 SWOT Analysis"
      ],
      "metadata": {
        "id": "LEwiDwEZg4zK"
      }
    },
    {
      "cell_type": "markdown",
      "source": [
        "### Strengths:\n",
        "\n",
        "*   Sound quality\n",
        "*   Powerful bass\n",
        "* Comfortable design\n",
        "* Long battery life\n",
        "* Seamless Apple Integration\n",
        "* Offers great value when purchased at a discount\n",
        "\n",
        "### Weaknesses:\n",
        "\n",
        "* Noise cancellation limitations\n",
        "* Build quality concerns\n",
        "* Micro USB charging\n",
        "* High retail price\n",
        "\n",
        "### Opportunities:\n",
        "\n",
        "* Switch to USB-C\n",
        "* Improve noise cancellation\n",
        "\n",
        "### Threats:\n",
        "\n",
        "* High price point\n",
        "* Preference for advanced features"
      ],
      "metadata": {
        "id": "UkPluJvMB7aG"
      }
    },
    {
      "cell_type": "markdown",
      "source": [
        "## 9. Strategic Recommendations\n",
        "\n",
        "### 9.1 Product Improvements\n"
      ],
      "metadata": {
        "id": "-cjwuRIbg9ud"
      }
    },
    {
      "cell_type": "markdown",
      "source": [
        "1. Improve Active Noise Cancellation (ANC)\n",
        "\n",
        "  While the Studio3 offers some noise cancellation, it's not as effective as more specialized models from Sony or Bose. Upgrading or improving its ANC could involve developing advanced algorithms that better distinguish between ambient noises and conversational sounds, making the headphones more effective in a wider range of environments.\n",
        "\n",
        "2. Switch to USB-C Charging\n",
        "\n",
        "  A few customers express disappointment with the Micro USB charging port, preferring the more modern USB-C standard. USB-C offers faster charging, greater durability and is becoming the standard for most modern electronic devices, making it a necessary upgrade to meet consumer expectations.\n",
        "\n",
        "3. Adjustable earcup size\n",
        "\n",
        "  Some users with larger ears found the earcups too small. Offering different earcup sizes or a more adjustable design could accommodate a wider range of head shapes and sizes.\n",
        "\n",
        "4. Better headband padding\n",
        "\n",
        "  Many users found the headband lacked cushioning, leading to discomfort after extended wear. Adding more padding could significantly improve comfort. Beats by Dre could also introduce memory foam padding that molds to the user's ears over time, reducing pressure points and enhancing comfort during long listening sessions.\n",
        "\n",
        "5. Improved folding mechanism\n",
        "\n",
        "  The current folding mechanism can cause the earcups to be squished against the headband, potentially leading to damage or discomfort. Address the concerns about the durability of the folding mechanism to reduce the likelihood of wear and tear over time.\n"
      ],
      "metadata": {
        "id": "wNhv0Xa05Lfa"
      }
    },
    {
      "cell_type": "markdown",
      "source": [
        "### 9.2 Marketing Strategies\n"
      ],
      "metadata": {
        "id": "2bsNlkdlhBot"
      }
    },
    {
      "cell_type": "markdown",
      "source": [
        "While the noise cancellation is not considered top-tier, many reviewers praise the sound quality, particularly bass, and comfortable fit. Consumers find that they get a better value when they purchase the product while it's on sale. Beats by Dre could plan regular promotions or offer discounts like student discounts that can attract budget-conscious consumers while maintaining the brand's premium image."
      ],
      "metadata": {
        "id": "8il0RvzHY4I3"
      }
    },
    {
      "cell_type": "markdown",
      "source": [
        "### 9.3 Future Research"
      ],
      "metadata": {
        "id": "vmvfoXy_hG_d"
      }
    },
    {
      "cell_type": "markdown",
      "source": [
        "Price sensitivity research and a demographic breakdown of the collected detailed demographic data could help further enhance the analysis by analyzing how price changes or promotions affects sales compared to its competitors and understanding its primary users to better help tailor marketing strategies."
      ],
      "metadata": {
        "id": "MFty6nEDZS9C"
      }
    },
    {
      "cell_type": "markdown",
      "source": [
        "## 10. Conclusion\n"
      ],
      "metadata": {
        "id": "6LrUwAGHhIsP"
      }
    },
    {
      "cell_type": "markdown",
      "source": [
        "The results of this analysis for Beats by Dre emphasizes the need for continuous product improvement, especially in noise cancellation technology, build quality, and keeping up with current technological advancements like USB-C charging. The Beats Studio3 headphones are popular, but only truly competitive when purchased on sale. Consumers are sensitive to the value proposition and expect strong performance for the price. Its competitors based on the sentiment analysis would be Sony, Bose and soundcore who all had comparatively higher reviews which made Beats by Dre fall slightly behind. However, it does well in avoiding disatisfaction among its consumers with its low negative reviews compared to the other products. Beats by Dre could focus on turning the moderate reviews to positive through refining its features and addressing any issues."
      ],
      "metadata": {
        "id": "Dv5ydE7M_YNS"
      }
    },
    {
      "cell_type": "markdown",
      "source": [
        "## 11. References\n"
      ],
      "metadata": {
        "id": "olikrWxke3lK"
      }
    },
    {
      "cell_type": "markdown",
      "source": [
        "Osaji, Faith. “The Wireless Generation” Beats by Dre Extern, 14 Aug. 2024\n",
        "\n",
        "\n",
        "Helm, Burt. “How Dr. Dre's Headphones Company Became a Billion-Dollar Business.” Inc.com, Inc., 23 Apr. 2014, www.inc.com/audacious-companies/burt-helm/beats.html.\n",
        "\n",
        "\n",
        "Nast, Condé. “Sony's All-New Flagship Noise-Cancelers Are Still the Best.” WIRED, 12 May 2022, www.wired.com/review/review-sony-wh-1000xm5/.\n",
        "\n",
        "\n",
        "\"INFURTURE H1 Active Noise Cancelling Headphones: A Clear and Crisp Listening Experience for an Unbeatable Price ”: Findearphone.com, 2023, www.findearphone.com/post/detail/306/.\n",
        "\n",
        "\n",
        "Nieto, Álvaro. “Edifier WH700NB: Affordable Headphones with More than 60 Hours of Use.” Tech Week, Tech Week, 25 Dec. 2023, www.techweekmag.com/reviews/headphones/edifier-wh700nb-review/.\n",
        "\n",
        "\n",
        "Reviews, Jimmy. “Should You Buy the MOVSSOU E7 Active Noise Cancelling Headphones? An Honest Review.” Medium, Medium, 28 Apr. 2024, www.medium.com/@JimmyReviews/should-you-buy-the-movssou-e7-active-noise-cancelling-headphones-an-honest-review-92ec0825ee20.\n",
        "\n",
        "\n",
        "\"JBL Live 460NC Wireless Review.” RTINGS.com, www.rtings.com/headphones/reviews/jbl/live-460nc-wireless.\n",
        "\n",
        "Tambini, Olivia. “Sennheiser HD 450BT.” TechRadar, 2 June 2021, www.techradar.com/reviews/sennheiser-hd-450bt.\n",
        "\n",
        "Daniel. “Anker Soundcore Q20i Review: The Updated Version of the Q20 - Headphone Speak.” Headphone Speak, 16 Oct. 2023, headphonespeak.com/anker-soundcore-q20i-review-the-updated-version-of-the-q20/.\n",
        "\n",
        "“Bose QuietComfort Headphones Wireless Review.” RTINGS.com, www.rtings.com/headphones/reviews/bose/quietcomfort-headphones-wireless.\n",
        "\n"
      ],
      "metadata": {
        "id": "JcJoVGTtb_Ky"
      }
    }
  ]
}